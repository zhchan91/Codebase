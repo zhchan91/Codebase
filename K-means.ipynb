{
 "cells": [
  {
   "cell_type": "markdown",
   "metadata": {},
   "source": [
    "# Stats 141C Homework  3\n",
    "#### Chen Zihao 915490404"
   ]
  },
  {
   "cell_type": "markdown",
   "metadata": {},
   "source": [
    "### Problem 1. K-means clustering\n",
    "\n",
    "Implement the \"k-means\" algorithm to cluster the dense data (\"data_dense.pl\") into K=10 clusters. The k-means algorithm can be found in lecture 11, page 15 or 16 (they are equivalent). Initaialize cluster centers $m_1,...,m_{10}$ using 10 randomly sampled data points. Print out the k-means objective\n",
    "$$\n",
    "J=\\sum_{k=1}^K\\sum_{x_n\\in C_k} ||x_n - m_k||^2_2\n",
    "$$\n",
    "at each iteration, where $C_k$ is the data points belong to k-th cluster, and $m_k$ is the cluster center of the $k$-th cluster. Run the program for 40 iterations and report the objective fuinction and running time at iteration 10,20,30,40. Discuss your findings."
   ]
  },
  {
   "cell_type": "code",
   "execution_count": 1,
   "metadata": {},
   "outputs": [],
   "source": [
    "import pickle\n",
    "import numpy as np\n",
    "X = pickle.load(open(\"data_dense.pl\", \"rb\"), encoding=\"latin1\")"
   ]
  },
  {
   "cell_type": "markdown",
   "metadata": {},
   "source": [
    "Initial the cluster center using 10 randomly sampled data points."
   ]
  },
  {
   "cell_type": "code",
   "execution_count": 2,
   "metadata": {
    "scrolled": true
   },
   "outputs": [],
   "source": [
    "import random\n",
    "p = 10\n",
    "init = random.sample(range(len(X)),p)\n",
    "m = np.zeros(shape=(p,X.shape[1]))\n",
    "t=0\n",
    "for i in init:\n",
    "    m[t,:] = X[i,:]\n",
    "    t += 1"
   ]
  },
  {
   "cell_type": "code",
   "execution_count": 3,
   "metadata": {},
   "outputs": [],
   "source": [
    "import time\n",
    "J = list()\n",
    "t = 0\n",
    "time0 = time.time()\n",
    "for a in range(40):\n",
    "    #calculate the distance to the cluster center and record them.\n",
    "    #cluster the data with the minimum distance.\n",
    "    y = list()\n",
    "    j = list()\n",
    "    for i in range(len(X)):\n",
    "        r = np.zeros(p)\n",
    "        for k in range(p):\n",
    "            r[k] = np.sum(np.power(X[i,:]-m[k,:],2))\n",
    "        y.append(int(np.where(r==min(r))[0][0]))\n",
    "        j.append(min(r))\n",
    "    J.append(sum(j))\n",
    "    \n",
    "    #find the new cluster center\n",
    "    for i in range(p):\n",
    "        m[i,:] = np.mean(X[[k for k in range(len(y)) if y[k] == i],:],axis = 0)\n",
    "    t += 1\n",
    "    if t in [10,20,30,40]:\n",
    "        locals()[\"time\"+str(t)] = time.time()"
   ]
  },
  {
   "cell_type": "markdown",
   "metadata": {},
   "source": [
    "The objective function values is like below (the column names are digit in tens, the row names are digit in ones) "
   ]
  },
  {
   "cell_type": "code",
   "execution_count": 4,
   "metadata": {},
   "outputs": [
    {
     "data": {
      "text/html": [
       "<div>\n",
       "<style>\n",
       "    .dataframe thead tr:only-child th {\n",
       "        text-align: right;\n",
       "    }\n",
       "\n",
       "    .dataframe thead th {\n",
       "        text-align: left;\n",
       "    }\n",
       "\n",
       "    .dataframe tbody tr th {\n",
       "        vertical-align: top;\n",
       "    }\n",
       "</style>\n",
       "<table border=\"1\" class=\"dataframe\">\n",
       "  <thead>\n",
       "    <tr style=\"text-align: right;\">\n",
       "      <th></th>\n",
       "      <th>0</th>\n",
       "      <th>1</th>\n",
       "      <th>2</th>\n",
       "      <th>3</th>\n",
       "      <th>4</th>\n",
       "      <th>5</th>\n",
       "      <th>6</th>\n",
       "      <th>7</th>\n",
       "      <th>8</th>\n",
       "      <th>9</th>\n",
       "    </tr>\n",
       "  </thead>\n",
       "  <tbody>\n",
       "    <tr>\n",
       "      <th>0</th>\n",
       "      <td>101632.000000</td>\n",
       "      <td>62040.511878</td>\n",
       "      <td>58467.570904</td>\n",
       "      <td>57017.064419</td>\n",
       "      <td>55984.787236</td>\n",
       "      <td>55441.073823</td>\n",
       "      <td>55227.186384</td>\n",
       "      <td>55189.586668</td>\n",
       "      <td>55184.993865</td>\n",
       "      <td>55183.204297</td>\n",
       "    </tr>\n",
       "    <tr>\n",
       "      <th>1</th>\n",
       "      <td>55182.699921</td>\n",
       "      <td>55182.411681</td>\n",
       "      <td>55182.299200</td>\n",
       "      <td>55182.182476</td>\n",
       "      <td>55181.825954</td>\n",
       "      <td>55181.414842</td>\n",
       "      <td>55181.024323</td>\n",
       "      <td>55180.828626</td>\n",
       "      <td>55180.202174</td>\n",
       "      <td>55179.026346</td>\n",
       "    </tr>\n",
       "    <tr>\n",
       "      <th>2</th>\n",
       "      <td>55177.744625</td>\n",
       "      <td>55171.209077</td>\n",
       "      <td>55130.440495</td>\n",
       "      <td>55108.011981</td>\n",
       "      <td>55091.976844</td>\n",
       "      <td>55080.119965</td>\n",
       "      <td>55075.074228</td>\n",
       "      <td>55073.715627</td>\n",
       "      <td>55072.687485</td>\n",
       "      <td>55070.545168</td>\n",
       "    </tr>\n",
       "    <tr>\n",
       "      <th>3</th>\n",
       "      <td>55069.855693</td>\n",
       "      <td>55069.655773</td>\n",
       "      <td>55069.603306</td>\n",
       "      <td>55069.588665</td>\n",
       "      <td>55069.588665</td>\n",
       "      <td>55069.588665</td>\n",
       "      <td>55069.588665</td>\n",
       "      <td>55069.588665</td>\n",
       "      <td>55069.588665</td>\n",
       "      <td>55069.588665</td>\n",
       "    </tr>\n",
       "  </tbody>\n",
       "</table>\n",
       "</div>"
      ],
      "text/plain": [
       "               0             1             2             3             4  \\\n",
       "0  101632.000000  62040.511878  58467.570904  57017.064419  55984.787236   \n",
       "1   55182.699921  55182.411681  55182.299200  55182.182476  55181.825954   \n",
       "2   55177.744625  55171.209077  55130.440495  55108.011981  55091.976844   \n",
       "3   55069.855693  55069.655773  55069.603306  55069.588665  55069.588665   \n",
       "\n",
       "              5             6             7             8             9  \n",
       "0  55441.073823  55227.186384  55189.586668  55184.993865  55183.204297  \n",
       "1  55181.414842  55181.024323  55180.828626  55180.202174  55179.026346  \n",
       "2  55080.119965  55075.074228  55073.715627  55072.687485  55070.545168  \n",
       "3  55069.588665  55069.588665  55069.588665  55069.588665  55069.588665  "
      ]
     },
     "execution_count": 4,
     "metadata": {},
     "output_type": "execute_result"
    }
   ],
   "source": [
    "import pandas as pd\n",
    "pd.DataFrame([J[0:10],J[10:20],J[20:30],J[30:]])"
   ]
  },
  {
   "cell_type": "markdown",
   "metadata": {},
   "source": [
    "graph version of the objective function values (from 1st iteration to the end)"
   ]
  },
  {
   "cell_type": "code",
   "execution_count": 5,
   "metadata": {},
   "outputs": [
    {
     "data": {
      "image/png": "[encoded data removed]",
      "text/plain": [
       "<matplotlib.figure.Figure at 0x2b35c89f400>"
      ]
     },
     "metadata": {},
     "output_type": "display_data"
    }
   ],
   "source": [
    "import matplotlib.pyplot as plt\n",
    "x = [i+1 for i in range(len(J[:]))]\n",
    "plt.plot(x,J[:])\n",
    "plt.xlabel(\"iterations\")\n",
    "plt.ylabel(\"objective function values\")\n",
    "plt.xticks(rotation='-45')\n",
    "plt.show()"
   ]
  },
  {
   "cell_type": "markdown",
   "metadata": {},
   "source": [
    "graph version of the objective function values (from 11th iteration to the end, get rid of the first 10 iterations)"
   ]
  },
  {
   "cell_type": "code",
   "execution_count": 6,
   "metadata": {
    "scrolled": true
   },
   "outputs": [
    {
     "data": {
      "image/png": "[encoded data removed]",
      "text/plain": [
       "<matplotlib.figure.Figure at 0x2b35d44e0b8>"
      ]
     },
     "metadata": {},
     "output_type": "display_data"
    }
   ],
   "source": [
    "x = [i+10 for i in range(len(J[10:]))]\n",
    "plt.plot(x,J[10:])\n",
    "plt.xlabel(\"iterations\")\n",
    "plt.ylabel(\"objective function values\")\n",
    "plt.xticks(rotation='-45')\n",
    "plt.show()"
   ]
  },
  {
   "cell_type": "code",
   "execution_count": 7,
   "metadata": {},
   "outputs": [
    {
     "name": "stdout",
     "output_type": "stream",
     "text": [
      "the 10th iteration running time is 28.200257 secs.\n",
      "the 20th iteration running time is 56.444405 secs.\n",
      "the 30th iteration running time is 84.618155 secs.\n",
      "the 40th iteration running time is 112.845980 secs.\n"
     ]
    }
   ],
   "source": [
    "for a in [10,20,30,40]:\n",
    "    print(\"the \"+str(a)+\"th iteration running time is %lf secs.\"%(locals()[\"time\"+str(a)]-time0))"
   ]
  },
  {
   "cell_type": "code",
   "execution_count": 8,
   "metadata": {
    "scrolled": true
   },
   "outputs": [
    {
     "name": "stdout",
     "output_type": "stream",
     "text": [
      "the 0th iteration to 10th iteration running time from the is 28.200257 secs.\n",
      "the 10th iteration to 20th iteration running time from the is 28.244148 secs.\n",
      "the 20th iteration to 30th iteration running time from the is 28.173750 secs.\n",
      "the 30th iteration to 40th iteration running time from the is 28.227824 secs.\n"
     ]
    }
   ],
   "source": [
    "for a in [10,20,30,40]:\n",
    "    print(\"the \"+str(a-10)+\"th iteration to \"+str(a)+\"th iteration running time from the is %lf secs.\"%\n",
    "          (locals()[\"time\"+str(a)]-locals()[\"time\"+str(a-10)]))"
   ]
  },
  {
   "cell_type": "markdown",
   "metadata": {},
   "source": [
    "The iteration consuming time is in a linear form. For each iteration, the time is almost the same. It is because in every iteration the calculation is almost the same.\n",
    "\n",
    "For the objective function values, the differences between two continuous iterations are decreasing gradually which means we can make a huge improvement in the begining but as the iteration goes on, the improvement will become smaller and smaller. It is the same as the intuition. As the iteration goes on, the changing will be small and eventually it will stable.\n",
    "\n",
    "Also, noticing there is a gap around 20 - 25 iteration, it may because there are some points in the boundary of cluster regions. Subtle difference of the cluster means can make a huge diffence in this situation."
   ]
  },
  {
   "cell_type": "markdown",
   "metadata": {},
   "source": [
    "### Problem 2. K-means for sparse data \n",
    "Apply the same k-means algorithm to sparse data (“data sparse E2006.pl”). Note that in this pickle ﬁle X is stored in Compressed Sparse Row (CSR) format, and you will need to modify your code accordingly to use sparse matrix (turn the data into dense matrix will be out-of-memory). Run the program for 40 iterations and report the objective function and running time at iteration 10, 20, 30, 40. Discuss your ﬁndings."
   ]
  },
  {
   "cell_type": "code",
   "execution_count": 9,
   "metadata": {},
   "outputs": [],
   "source": [
    "X = pickle.load(open(\"data_sparse_E2006.pl\", \"rb\"), encoding=\"latin1\")"
   ]
  },
  {
   "cell_type": "code",
   "execution_count": 10,
   "metadata": {},
   "outputs": [],
   "source": [
    "import random\n",
    "p = 10\n",
    "init = random.sample(range(X.shape[0]),p)\n",
    "m = np.zeros(shape=(p,X.shape[1]))\n",
    "t=0\n",
    "for i in init:\n",
    "    m[t,:] = X[i,:].todense()#the cluster mean is in the dense form\n",
    "    t += 1"
   ]
  },
  {
   "cell_type": "markdown",
   "metadata": {},
   "source": [
    "For a,b are same dimension vectors, we have\n",
    "$$||a-b||^2_2=(a-b)^\\top(a-b)=a^\\top a+b^\\top b-2a^\\top b$$\n",
    "using this we can save a lot of ram space.\n",
    "\n",
    "notice that we can calculate $a^\\top a$ and $b^\\top b$ first to speed up the algorithm"
   ]
  },
  {
   "cell_type": "code",
   "execution_count": 11,
   "metadata": {},
   "outputs": [],
   "source": [
    "#calculate a^2 first which will not change in the progress.\n",
    "a = list()\n",
    "for k in range(X.shape[0]):\n",
    "    a.append(((X[k,:]@X[k,:].T).todense())[0,0])"
   ]
  },
  {
   "cell_type": "code",
   "execution_count": 12,
   "metadata": {},
   "outputs": [],
   "source": [
    "J = list()\n",
    "t = 0\n",
    "    \n",
    "time0 = time.time()\n",
    "    \n",
    "for iteration in range(40):\n",
    "    #calculate the distance to the cluster center and record them.\n",
    "    #cluster the data with the minimum distance.\n",
    "    y = list()\n",
    "    j = list()\n",
    "    \n",
    "    b = list()\n",
    "    for k in range(p):\n",
    "        b.append((m[k,:]@m[k,:].T))#this is the b^2\n",
    "    \n",
    "    for i in range(X.shape[0]):\n",
    "        r = np.zeros(p)\n",
    "        for k in range(p):\n",
    "            ab = (X[i,:]@m[k,:].T)[0]\n",
    "            r[k] = a[i]+b[k]-2*ab\n",
    "        y.append(int(np.where(r==min(r))[0][0]))\n",
    "        j.append(min(r))\n",
    "    J.append(sum(j))\n",
    "    \n",
    "    #find the new cluster center\n",
    "    for i in range(p):\n",
    "        m[i,:] = np.mean(X[[k for k in range(len(y)) if y[k] == i],:],axis = 0)\n",
    "    t += 1\n",
    "    if t in [10,20,30,40]:\n",
    "        locals()[\"time\"+str(t)] = time.time()"
   ]
  },
  {
   "cell_type": "markdown",
   "metadata": {},
   "source": [
    "The objective function values is like below (the column names are digit in tens, the row names are digit in ones) "
   ]
  },
  {
   "cell_type": "code",
   "execution_count": 13,
   "metadata": {},
   "outputs": [
    {
     "data": {
      "text/html": [
       "<div>\n",
       "<style>\n",
       "    .dataframe thead tr:only-child th {\n",
       "        text-align: right;\n",
       "    }\n",
       "\n",
       "    .dataframe thead th {\n",
       "        text-align: left;\n",
       "    }\n",
       "\n",
       "    .dataframe tbody tr th {\n",
       "        vertical-align: top;\n",
       "    }\n",
       "</style>\n",
       "<table border=\"1\" class=\"dataframe\">\n",
       "  <thead>\n",
       "    <tr style=\"text-align: right;\">\n",
       "      <th></th>\n",
       "      <th>0</th>\n",
       "      <th>1</th>\n",
       "      <th>2</th>\n",
       "      <th>3</th>\n",
       "      <th>4</th>\n",
       "      <th>5</th>\n",
       "      <th>6</th>\n",
       "      <th>7</th>\n",
       "      <th>8</th>\n",
       "      <th>9</th>\n",
       "    </tr>\n",
       "  </thead>\n",
       "  <tbody>\n",
       "    <tr>\n",
       "      <th>0</th>\n",
       "      <td>1106.656748</td>\n",
       "      <td>271.936768</td>\n",
       "      <td>234.236473</td>\n",
       "      <td>223.098891</td>\n",
       "      <td>216.699156</td>\n",
       "      <td>212.220766</td>\n",
       "      <td>208.797832</td>\n",
       "      <td>206.189253</td>\n",
       "      <td>203.956418</td>\n",
       "      <td>201.920192</td>\n",
       "    </tr>\n",
       "    <tr>\n",
       "      <th>1</th>\n",
       "      <td>200.180904</td>\n",
       "      <td>198.524139</td>\n",
       "      <td>196.846570</td>\n",
       "      <td>195.194168</td>\n",
       "      <td>193.630779</td>\n",
       "      <td>191.886652</td>\n",
       "      <td>190.095064</td>\n",
       "      <td>188.559660</td>\n",
       "      <td>187.124075</td>\n",
       "      <td>186.024120</td>\n",
       "    </tr>\n",
       "    <tr>\n",
       "      <th>2</th>\n",
       "      <td>184.980511</td>\n",
       "      <td>184.056881</td>\n",
       "      <td>182.971684</td>\n",
       "      <td>181.923683</td>\n",
       "      <td>180.854397</td>\n",
       "      <td>179.770519</td>\n",
       "      <td>178.801211</td>\n",
       "      <td>177.811326</td>\n",
       "      <td>176.758452</td>\n",
       "      <td>175.726557</td>\n",
       "    </tr>\n",
       "    <tr>\n",
       "      <th>3</th>\n",
       "      <td>174.751213</td>\n",
       "      <td>173.840924</td>\n",
       "      <td>173.071555</td>\n",
       "      <td>172.253301</td>\n",
       "      <td>171.568518</td>\n",
       "      <td>170.970150</td>\n",
       "      <td>170.408373</td>\n",
       "      <td>169.843381</td>\n",
       "      <td>169.303742</td>\n",
       "      <td>168.863937</td>\n",
       "    </tr>\n",
       "  </tbody>\n",
       "</table>\n",
       "</div>"
      ],
      "text/plain": [
       "             0           1           2           3           4           5  \\\n",
       "0  1106.656748  271.936768  234.236473  223.098891  216.699156  212.220766   \n",
       "1   200.180904  198.524139  196.846570  195.194168  193.630779  191.886652   \n",
       "2   184.980511  184.056881  182.971684  181.923683  180.854397  179.770519   \n",
       "3   174.751213  173.840924  173.071555  172.253301  171.568518  170.970150   \n",
       "\n",
       "            6           7           8           9  \n",
       "0  208.797832  206.189253  203.956418  201.920192  \n",
       "1  190.095064  188.559660  187.124075  186.024120  \n",
       "2  178.801211  177.811326  176.758452  175.726557  \n",
       "3  170.408373  169.843381  169.303742  168.863937  "
      ]
     },
     "execution_count": 13,
     "metadata": {},
     "output_type": "execute_result"
    }
   ],
   "source": [
    "import pandas as pd\n",
    "pd.DataFrame([J[0:10],J[10:20],J[20:30],J[30:]])"
   ]
  },
  {
   "cell_type": "markdown",
   "metadata": {},
   "source": [
    "graph version of the objective function values (from 1st iteration to the end)"
   ]
  },
  {
   "cell_type": "code",
   "execution_count": 14,
   "metadata": {},
   "outputs": [
    {
     "data": {
      "image/png": "[encoded data removed]",
      "text/plain": [
       "<matplotlib.figure.Figure at 0x2b30d68d668>"
      ]
     },
     "metadata": {},
     "output_type": "display_data"
    }
   ],
   "source": [
    "import matplotlib.pyplot as plt\n",
    "x = [i+1 for i in range(len(J[:]))]\n",
    "plt.plot(x,J[:])\n",
    "plt.xlabel(\"iterations\")\n",
    "plt.ylabel(\"objective function values\")\n",
    "plt.xticks(rotation='-45')\n",
    "plt.show()"
   ]
  },
  {
   "cell_type": "markdown",
   "metadata": {},
   "source": [
    "graph version of the objective function values (from 11th iteration to the end, get rid of the first 10 iterations)"
   ]
  },
  {
   "cell_type": "code",
   "execution_count": 15,
   "metadata": {
    "scrolled": true
   },
   "outputs": [
    {
     "data": {
      "image/png": "[encoded data removed]",
      "text/plain": [
       "<matplotlib.figure.Figure at 0x2b35d4eed30>"
      ]
     },
     "metadata": {},
     "output_type": "display_data"
    }
   ],
   "source": [
    "x = [i+10 for i in range(len(J[10:]))]\n",
    "plt.plot(x,J[10:])\n",
    "plt.xlabel(\"iterations\")\n",
    "plt.ylabel(\"objective function values\")\n",
    "plt.xticks(rotation='-45')\n",
    "plt.show()"
   ]
  },
  {
   "cell_type": "code",
   "execution_count": 16,
   "metadata": {},
   "outputs": [
    {
     "name": "stdout",
     "output_type": "stream",
     "text": [
      "the 10th iteration running time is 137.310974 secs.\n",
      "the 20th iteration running time is 274.138747 secs.\n",
      "the 30th iteration running time is 410.659842 secs.\n",
      "the 40th iteration running time is 546.893222 secs.\n"
     ]
    }
   ],
   "source": [
    "for a in [10,20,30,40]:\n",
    "    print(\"the \"+str(a)+\"th iteration running time is %lf secs.\"%(locals()[\"time\"+str(a)]-time0))"
   ]
  },
  {
   "cell_type": "code",
   "execution_count": 17,
   "metadata": {
    "scrolled": true
   },
   "outputs": [
    {
     "name": "stdout",
     "output_type": "stream",
     "text": [
      "the 0th iteration to 10th iteration running time from the is 137.310974 secs.\n",
      "the 10th iteration to 20th iteration running time from the is 136.827773 secs.\n",
      "the 20th iteration to 30th iteration running time from the is 136.521095 secs.\n",
      "the 30th iteration to 40th iteration running time from the is 136.233380 secs.\n"
     ]
    }
   ],
   "source": [
    "for a in [10,20,30,40]:\n",
    "    print(\"the \"+str(a-10)+\"th iteration to \"+str(a)+\"th iteration running time from the is %lf secs.\"%\n",
    "          (locals()[\"time\"+str(a)]-locals()[\"time\"+str(a-10)]))"
   ]
  },
  {
   "cell_type": "markdown",
   "metadata": {},
   "source": [
    "In problem 2, the calculation is much more time consuming although I already make a improvement in the sparse matrix form. It is mainly because the shape of the matrix is much larger than the one in problem 1.\n",
    "\n",
    "Each iteration need almost same time. The reason was discussed in problem1.\n",
    "\n",
    "For the objective function values, it shows that after 40 iterations , it is still not converged."
   ]
  }
 ],
 "metadata": {
  "kernelspec": {
   "display_name": "Python 3",
   "language": "python",
   "name": "python3"
  },
  "language_info": {
   "codemirror_mode": {
    "name": "ipython",
    "version": 3
   },
   "file_extension": ".py",
   "mimetype": "text/x-python",
   "name": "python",
   "nbconvert_exporter": "python",
   "pygments_lexer": "ipython3",
   "version": "3.6.3"
  }
 },
 "nbformat": 4,
 "nbformat_minor": 2
}
