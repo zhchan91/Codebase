{
 "cells": [
  {
   "cell_type": "markdown",
   "metadata": {},
   "source": [
    "# STA 141B: Homework 6\n",
    "Winter 2018"
   ]
  },
  {
   "cell_type": "markdown",
   "metadata": {},
   "source": [
    "## Student Information\n",
    "\n",
    "After the colons (in the same line) please write just your first name, last name, and the 9 digit student ID number below.\n",
    "\n",
    "First Name: Zihao\n",
    "\n",
    "Last Name: Chen\n",
    "\n",
    "Student ID: 915490404"
   ]
  },
  {
   "cell_type": "markdown",
   "metadata": {},
   "source": [
    "## Instructions\n",
    "\n",
    "We use a script that extracts your answers by looking for cells in between the cells containing the exercise statements.  So you \n",
    "\n",
    "- MUST add cells in between the exercise statements and add answers within them and\n",
    "- MUST NOT modify the existing cells, particularly not the problem statement\n",
    "\n",
    "To make markdown, please switch the cell type to markdown (from code) - you can hit 'm' when you are in command mode - and use the markdown language.  For a brief tutorial see: https://daringfireball.net/projects/markdown/syntax"
   ]
  },
  {
   "cell_type": "markdown",
   "metadata": {},
   "source": [
    "# Web scraping the Aggie\n",
    "\n",
    "In this assignment, you'll scrape text from [The California Aggie](https://theaggie.org/) and then analyze the text.\n",
    "\n",
    "The Aggie is organized by category into article lists. For example, there's a [Campus News](https://theaggie.org/campus/) list, [Arts & Culture](https://theaggie.org/arts/) list, and [Sports](https://theaggie.org/sports/) list. Notice that each list has multiple pages, with a maximum of 15 articles per page.\n",
    "\n",
    "The goal of exercises 1.1 - 1.3 is to scrape articles from the Aggie for analysis in exercise 1.4."
   ]
  },
  {
   "cell_type": "markdown",
   "metadata": {},
   "source": [
    "__Exercise 1.1.__ Write a function that extracts all of the links to articles in an Aggie article list. The function should:\n",
    "\n",
    "* Have a parameter `url` for the URL of the article list.\n",
    "\n",
    "* Have a parameter `page` for the number of pages to fetch links from. The default should be `1`.\n",
    "\n",
    "* Return a list of aricle URLs (each URL should be a string).\n",
    "\n",
    "Test your function on 2-3 different categories to make sure it works.\n",
    "\n",
    "Hints:\n",
    "\n",
    "* Be polite to The Aggie and save time by setting up [requests_cache](https://pypi.python.org/pypi/requests-cache) before you write your function.\n",
    "\n",
    "* Start by getting your function to work for just 1 page. Once that works, have your function call itself to get additional pages.\n",
    "\n",
    "* You can use [lxml.html](http://lxml.de/lxmlhtml.html) or [BeautifulSoup](https://www.crummy.com/software/BeautifulSoup/bs4/doc/) to scrape HTML. Choose one and use it throughout the entire assignment."
   ]
  },
  {
   "cell_type": "code",
   "execution_count": 1,
   "metadata": {
    "collapsed": true
   },
   "outputs": [],
   "source": [
    "import lxml.html as lx\n",
    "import lxml.html as lx\n",
    "import pandas as pd\n",
    "import requests\n",
    "import requests_cache\n",
    "import time\n",
    "\n",
    "requests_cache.install_cache(\"cache\")"
   ]
  },
  {
   "cell_type": "code",
   "execution_count": 2,
   "metadata": {
    "collapsed": true
   },
   "outputs": [],
   "source": [
    "def Articles_url(url,page=1):\n",
    "    \"\"\"\n",
    "    The function is to extracts all of the links to articles in an Aggie article list\n",
    "    \n",
    "    Arg:\n",
    "    url:the url like https://theaggie.org/campus/, should end with /\n",
    "    page: how many does the pages be attracted, the default is to attract only the first page.\n",
    "    \"\"\"\n",
    "    article=[]\n",
    "    for i in range(1,page+1):\n",
    "        # Step 1: download the page.\n",
    "        link=str(url)+\"page/\"+str(i)\n",
    "        response = requests.get(link)\n",
    "        doc = response.text\n",
    "        \n",
    "        # Step 2: parse\n",
    "        html = lx.fromstring(doc, base_url = link)\n",
    "        html.make_links_absolute()\n",
    "        article.extend([x.attrib['href'] for x in html.xpath(\"//h2[@class = 'entry-title']/a\")])\n",
    "\n",
    "    return article"
   ]
  },
  {
   "cell_type": "code",
   "execution_count": 3,
   "metadata": {},
   "outputs": [
    {
     "data": {
      "text/plain": [
       "['https://theaggie.org/2018/03/13/last-week-in-senate-25/',\n",
       " 'https://theaggie.org/2018/03/12/uc-regents-will-vote-on-nonresident-tuition-hike-on-wednesday/',\n",
       " 'https://theaggie.org/2018/03/12/cheating-allegations-in-soc-46a/',\n",
       " 'https://theaggie.org/2018/03/12/chancellor-creates-three-task-forces-to-improve-student-life/',\n",
       " 'https://theaggie.org/2018/03/06/duke-law-professor-presents-lecture-voting-rights-law/',\n",
       " 'https://theaggie.org/2018/03/05/last-week-senate-25-8/',\n",
       " 'https://theaggie.org/2018/03/05/icc-warns-students-wary-suspicious-job-offering/',\n",
       " 'https://theaggie.org/2018/03/04/uc-davis-student-protester-arrested-yiannopoulos-talk-last-year-awaits-trial/',\n",
       " 'https://theaggie.org/2018/03/01/executive-ticket-candidates-claim-biases-non-asucd-affiliated-individuals/',\n",
       " 'https://theaggie.org/2018/03/01/happiness-campaign-strives-less-stress-joy/',\n",
       " 'https://theaggie.org/2018/02/27/senator-term-review-yajaira-ramirez-sigala/',\n",
       " 'https://theaggie.org/2018/02/27/calpirgs-winter-quarter-pledge-drives/',\n",
       " 'https://theaggie.org/2018/02/26/asucd-election-results-announced-2/',\n",
       " 'https://theaggie.org/2018/02/26/sexual-violence-prevention-response-board-created/',\n",
       " 'https://theaggie.org/2018/02/26/memoriam-markos-huerta/']"
      ]
     },
     "execution_count": 3,
     "metadata": {},
     "output_type": "execute_result"
    }
   ],
   "source": [
    "Articles_url(\"https://theaggie.org/campus/\")#to check the default 'page' para."
   ]
  },
  {
   "cell_type": "code",
   "execution_count": 4,
   "metadata": {},
   "outputs": [
    {
     "name": "stdout",
     "output_type": "stream",
     "text": [
      "30\n"
     ]
    },
    {
     "data": {
      "text/plain": [
       "['https://theaggie.org/2018/03/11/doing-more-than-dribbling/',\n",
       " 'https://theaggie.org/2018/03/09/uc-davis-wins-regular-season-big-west-conference-title-in-double-overtime-thriller/',\n",
       " 'https://theaggie.org/2018/03/08/aggies-win-big-in-triple-overtime-victory/',\n",
       " 'https://theaggie.org/2018/03/08/womens-basketball-tears-through-competition-in-2017-18-season/',\n",
       " 'https://theaggie.org/2018/03/08/collaboration-brings-together-at-risk-youth-uc-davis-mens-basketball/',\n",
       " 'https://theaggie.org/2018/03/06/lawsuit-filed-mlb-player-agency-performance-enhancing-drugs/',\n",
       " 'https://theaggie.org/2018/03/04/proposed-california-bill-ban-tackle-football-children-14/',\n",
       " 'https://theaggie.org/2018/03/01/womens-tennis-rolls-conference-play/',\n",
       " 'https://theaggie.org/2018/03/01/womens-basketball-downs-uc-irvine-clinches-conference/',\n",
       " 'https://theaggie.org/2018/03/01/shorts-buzzer-beater-wins-close-game-one-point/',\n",
       " 'https://theaggie.org/2018/03/01/aggies-swept-creighton-heartbreaking-fashion/',\n",
       " 'https://theaggie.org/2018/02/27/cheering-home-sports-comes-prize/',\n",
       " 'https://theaggie.org/2018/02/26/uc-davis-baseball-ready-take-next-step-forward-2018/',\n",
       " 'https://theaggie.org/2018/02/25/stars-align-los-angeles-nba-star-weekend/',\n",
       " 'https://theaggie.org/2018/02/25/former-aggie-takes-bronze-pyeongchang/',\n",
       " 'https://theaggie.org/2018/02/25/aggies-earn-third-place-mpsf-championships/',\n",
       " 'https://theaggie.org/2018/02/25/national-statistic-trends-observed-uc-davis-sports/',\n",
       " 'https://theaggie.org/2018/02/23/uc-davis-narrows-choices-new-womens-team-four-viable-options/',\n",
       " 'https://theaggie.org/2018/02/23/aggies-impress-aggie-shoot/',\n",
       " 'https://theaggie.org/2018/02/20/dance-cause-takes-center-stage-camp-kesem/',\n",
       " 'https://theaggie.org/2018/02/19/nbas-college-question/',\n",
       " 'https://theaggie.org/2018/02/15/new-era-womens-lacrosse-kicks-off-close-loss-cal/',\n",
       " 'https://theaggie.org/2018/02/12/aggies-dominate-dons/',\n",
       " 'https://theaggie.org/2018/02/11/mens-club-rugby-team-sacrifices-locks-loot/',\n",
       " 'https://theaggie.org/2018/02/09/vegan-bodybuilding-alternative-animal-protein-bulking/',\n",
       " 'https://theaggie.org/2018/02/09/bay-area-natives-take-center-stage-super-bowl-52/',\n",
       " 'https://theaggie.org/2018/02/05/uc-davis-coaches-show/',\n",
       " 'https://theaggie.org/2018/02/04/uc-davis-womens-water-polo-team-prepared-tough-season/',\n",
       " 'https://theaggie.org/2018/02/01/womens-gymnastics-falls-just-short-west-virginia-season-home-opener/',\n",
       " 'https://theaggie.org/2018/02/01/aggies-still-undefeated-big-west/']"
      ]
     },
     "execution_count": 4,
     "metadata": {},
     "output_type": "execute_result"
    }
   ],
   "source": [
    "print(len(Articles_url(\"https://theaggie.org/sports/\",2)))\n",
    "Articles_url(\"https://theaggie.org/sports/\",2)"
   ]
  },
  {
   "cell_type": "markdown",
   "metadata": {},
   "source": [
    "__Exercise 1.2.__ Write a function that extracts the title, text, and author of an Aggie article. The function should:\n",
    "\n",
    "* Have a parameter `url` for the URL of the article.\n",
    "\n",
    "* For the author, extract the \"Written By\" line that appears at the end of most articles. You don't have to extract the author's name from this line.\n",
    "\n",
    "* Return a dictionary with keys \"url\", \"title\", \"text\", and \"author\". The values for these should be the article url, title, text, and author, respectively.\n",
    "\n",
    "For example, for [this article](https://theaggie.org/2017/02/14/project-toto-aims-to-address-questions-regarding-city-finances/) your function should return something similar to this:\n",
    "```\n",
    "{\n",
    "    'author': u'Written By: Bianca Antunez \\xa0\\u2014\\xa0city@theaggie.org',\n",
    "    'text': u'Davis residents create financial model to make city\\'s financial state more transparent To increase transparency between the city\\'s financial situation and the community, three residents created a model called Project Toto which aims to improve how the city communicates its finances in an easily accessible design. Jeff Miller and Matt Williams, who are members of Davis\\' Finance and Budget Commission, joined together with Davis entrepreneur Bob Fung to create the model plan to bring the project to the Finance and Budget Commission in February, according to Kelly Stachowicz, assistant city manager. \"City staff appreciate the efforts that have gone into this, and the interest in trying to look at the city\\'s potential financial position over the long term,\" Stachowicz said in an email interview. \"We all have a shared goal to plan for a sound fiscal future with few surprises. We believe the Project Toto effort will mesh well with our other efforts as we build the budget for the next fiscal year and beyond.\" Project Toto complements the city\\'s effort to amplify the transparency of city decisions to community members. The aim is to increase the understanding about the city\\'s financial situation and make the information more accessible and easier to understand. The project is mostly a tool for public education, but can also make predictions about potential decisions regarding the city\\'s financial future. Once completed, the program will allow residents to manipulate variables to see their eventual consequences, such as tax increases or extensions and proposed developments \"This really isn\\'t a budget, it is a forecast to see the intervention of these decisions,\" Williams said in an interview with The Davis Enterprise. \"What happens if we extend the sales tax? What does it do given the other numbers that are in?\" Project Toto enables users, whether it be a curious Davis resident, a concerned community member or a city leader, with the ability to project city finances with differing variables. The online program consists of the 400-page city budget for the 2016-2017 fiscal year, the previous budget, staff reports and consultant analyses. All of the documents are cited and accessible to the public within Project Toto. \"It\\'s a model that very easily lends itself to visual representation,\" Mayor Robb Davis said. \"You can see the impacts of decisions the council makes on the fiscal health of the city.\" Complementary to this program, there is also a more advanced version of the model with more in-depth analyses of the city\\'s finances. However, for an easy-to-understand, simplistic overview, Project Toto should be enough to help residents comprehend Davis finances. There is still more to do on the project, but its creators are hard at work trying to finalize it before the 2017-2018 fiscal year budget. \"It\\'s something I have been very much supportive of,\" Davis said. \"Transparency is not just something that I have been supportive of but something we have stated as a city council objective [ ] this fits very well with our attempt to inform the public of our challenges with our fiscal situation.\" ',\n",
    "    'title': 'Project Toto aims to address questions regarding city finances',\n",
    "    'url': 'https://theaggie.org/2017/02/14/project-toto-aims-to-address-questions-regarding-city-finances/'\n",
    "}\n",
    "```\n",
    "\n",
    "Hints:\n",
    "\n",
    "* The author line is always the last line of the last paragraph.\n",
    "\n",
    "* If you are having trouble working with unicode characters see [the python 3 documentation](https://docs.python.org/3/howto/unicode.html)."
   ]
  },
  {
   "cell_type": "code",
   "execution_count": 5,
   "metadata": {
    "collapsed": true
   },
   "outputs": [],
   "source": [
    "def Articles(url):\n",
    "    \"\"\"\n",
    "    The function is to extracts all of the content of a article\n",
    "    \n",
    "    Arg:\n",
    "    url:the article url.\n",
    "    \"\"\"\n",
    "    response = requests.get(url)\n",
    "    doc = response.text\n",
    "    \n",
    "    html = lx.fromstring(doc, base_url = url)\n",
    "    html.make_links_absolute()\n",
    "    \n",
    "    title = html.xpath(\"//h1[@itemprop = 'headline']\")[0].text_content()\n",
    "    text = \"\".join([x.text_content() for x in html.xpath(\"//div[@itemprop = 'articleBody']/p\")[:-1]])\n",
    "    author = html.xpath(\"//div[@itemprop = 'articleBody']/p[last()]\")[0].text_content()\n",
    "    \n",
    "    return {\"url\":url,\"title\":title, \"text\":text,\"author\":author}"
   ]
  },
  {
   "cell_type": "code",
   "execution_count": 6,
   "metadata": {},
   "outputs": [
    {
     "data": {
      "text/plain": [
       "{'author': 'Written By: Bianca Antunez \\xa0—\\xa0city@theaggie.org',\n",
       " 'text': 'Davis residents create financial model to make city’s financial state more transparentTo increase transparency between the city’s financial situation and the community, three residents created a model called Project Toto which aims to improve how the city communicates its finances in an easily accessible design. Jeff Miller and Matt Williams, who are members of Davis’ Finance and Budget Commission, joined together with Davis entrepreneur Bob Fung to create the model plan to bring the project to the Finance and Budget Commission in February, according to Kelly Stachowicz, assistant city manager. “City staff appreciate the efforts that have gone into this, and the interest in trying to look at the city’s potential financial position over the long term,” Stachowicz said in an email interview. “We all have a shared goal to plan for a sound fiscal future with few surprises. We believe the Project Toto effort will mesh well with our other efforts as we build the budget for the next fiscal year and beyond.”Project Toto complements the city’s effort to amplify the transparency of city decisions to community members. The aim is to increase the understanding about the city’s financial situation and make the information more accessible and easier to understand.The project is mostly a tool for public education, but can also make predictions about potential decisions regarding the city’s financial future. Once completed, the program will allow residents to manipulate variables to see their eventual consequences, such as tax increases or extensions and proposed developments“This really isn’t a budget, it is a forecast to see the intervention of these decisions,” Williams said in an interview with The Davis Enterprise. “What happens if we extend the sales tax? What does it do given the other numbers that are in?”Project Toto enables users, whether it be a curious Davis resident, a concerned community member or a city leader, with the ability to project city finances with differing variables. The online program consists of the 400-page city budget for the 2016-2017 fiscal year, the previous budget, staff reports and consultant analyses. All of the documents are cited and accessible to the public within Project Toto.“It’s a model that very easily lends itself to visual representation,” Mayor Robb Davis said. “You can see the impacts of decisions the council makes on the fiscal health of the city.”Complementary to this program, there is also a more advanced version of the model with more in-depth analyses of the city’s finances. However, for an easy-to-understand, simplistic overview, Project Toto should be enough to help residents comprehend Davis finances. There is still more to do on the project, but its creators are hard at work trying to finalize it before the 2017-2018 fiscal year budget. “It’s something I have been very much supportive of,” Davis said. “Transparency is not just something that I have been supportive of but something we have stated as a city council objective […] this fits very well with our attempt to inform the public of our challenges with our fiscal situation.”',\n",
       " 'title': 'Project Toto aims to address questions regarding city finances',\n",
       " 'url': 'https://theaggie.org/2017/02/14/project-toto-aims-to-address-questions-regarding-city-finances/'}"
      ]
     },
     "execution_count": 6,
     "metadata": {},
     "output_type": "execute_result"
    }
   ],
   "source": [
    "Articles(\"https://theaggie.org/2017/02/14/project-toto-aims-to-address-questions-regarding-city-finances/\")"
   ]
  },
  {
   "cell_type": "markdown",
   "metadata": {},
   "source": [
    "__Exercise 1.3.__ Use your functions from exercises 1.1 and 1.2 to get a data frame of 60 [Campus News](https://theaggie.org/campus/) articles and a data frame of 60 [City News](https://theaggie.org/city/) articles. Add a column to each that indicates the category, then combine them into one big data frame.\n",
    "\n",
    "The \"text\" column of this data frame will be your corpus for natural language processing in exercise 1.4."
   ]
  },
  {
   "cell_type": "code",
   "execution_count": 7,
   "metadata": {
    "collapsed": true
   },
   "outputs": [],
   "source": [
    "campus = [Articles(x) for x in Articles_url(\"https://theaggie.org/campus/\",4)]\n",
    "city = [Articles(x) for x in Articles_url(\"https://theaggie.org/city/\",4)]"
   ]
  },
  {
   "cell_type": "code",
   "execution_count": 8,
   "metadata": {
    "collapsed": true
   },
   "outputs": [],
   "source": [
    "Campus=pd.DataFrame(campus)\n",
    "Campus[\"category\"] = \"campus\"\n",
    "City = pd.DataFrame(city)\n",
    "City[\"category\"] = \"city\"\n",
    "big = pd.concat([Campus,City])"
   ]
  },
  {
   "cell_type": "code",
   "execution_count": 9,
   "metadata": {
    "scrolled": true
   },
   "outputs": [
    {
     "data": {
      "text/html": [
       "<div>\n",
       "<style>\n",
       "    .dataframe thead tr:only-child th {\n",
       "        text-align: right;\n",
       "    }\n",
       "\n",
       "    .dataframe thead th {\n",
       "        text-align: left;\n",
       "    }\n",
       "\n",
       "    .dataframe tbody tr th {\n",
       "        vertical-align: top;\n",
       "    }\n",
       "</style>\n",
       "<table border=\"1\" class=\"dataframe\">\n",
       "  <thead>\n",
       "    <tr style=\"text-align: right;\">\n",
       "      <th></th>\n",
       "      <th>author</th>\n",
       "      <th>text</th>\n",
       "      <th>title</th>\n",
       "      <th>url</th>\n",
       "      <th>category</th>\n",
       "    </tr>\n",
       "  </thead>\n",
       "  <tbody>\n",
       "    <tr>\n",
       "      <th>0</th>\n",
       "      <td>Written by: George Liao — campus@theaggie.org</td>\n",
       "      <td>Funding for Student Advocates for Mental Healt...</td>\n",
       "      <td>Last week in Senate</td>\n",
       "      <td>https://theaggie.org/2018/03/13/last-week-in-s...</td>\n",
       "      <td>campus</td>\n",
       "    </tr>\n",
       "    <tr>\n",
       "      <th>1</th>\n",
       "      <td>Written by: Hannah Holzer — campus@theaggie.org</td>\n",
       "      <td>Proposed $978 tuition hikeAt the upcoming UC R...</td>\n",
       "      <td>UC Regents will vote on nonresident tuition hi...</td>\n",
       "      <td>https://theaggie.org/2018/03/12/uc-regents-wil...</td>\n",
       "      <td>campus</td>\n",
       "    </tr>\n",
       "    <tr>\n",
       "      <th>2</th>\n",
       "      <td>Written by: Sabrina Habchi — campus@theaggie.org</td>\n",
       "      <td>Controversy over academic honesty suspicions i...</td>\n",
       "      <td>Cheating allegations in SOC 46A</td>\n",
       "      <td>https://theaggie.org/2018/03/12/cheating-alleg...</td>\n",
       "      <td>campus</td>\n",
       "    </tr>\n",
       "    <tr>\n",
       "      <th>3</th>\n",
       "      <td>Written by: Jacqueline Moore — campus@theaggie...</td>\n",
       "      <td>Task forces to review affordable housing, food...</td>\n",
       "      <td>Chancellor creates three task forces to improv...</td>\n",
       "      <td>https://theaggie.org/2018/03/12/chancellor-cre...</td>\n",
       "      <td>campus</td>\n",
       "    </tr>\n",
       "    <tr>\n",
       "      <th>4</th>\n",
       "      <td>Written by: Jacqueline Moore — campus@theaggie...</td>\n",
       "      <td>Guy-Uriel Charles speaks at King HallDuke Univ...</td>\n",
       "      <td>Duke law professor presents lecture on voting ...</td>\n",
       "      <td>https://theaggie.org/2018/03/06/duke-law-profe...</td>\n",
       "      <td>campus</td>\n",
       "    </tr>\n",
       "  </tbody>\n",
       "</table>\n",
       "</div>"
      ],
      "text/plain": [
       "                                              author  \\\n",
       "0      Written by: George Liao — campus@theaggie.org   \n",
       "1    Written by: Hannah Holzer — campus@theaggie.org   \n",
       "2   Written by: Sabrina Habchi — campus@theaggie.org   \n",
       "3  Written by: Jacqueline Moore — campus@theaggie...   \n",
       "4  Written by: Jacqueline Moore — campus@theaggie...   \n",
       "\n",
       "                                                text  \\\n",
       "0  Funding for Student Advocates for Mental Healt...   \n",
       "1  Proposed $978 tuition hikeAt the upcoming UC R...   \n",
       "2  Controversy over academic honesty suspicions i...   \n",
       "3  Task forces to review affordable housing, food...   \n",
       "4  Guy-Uriel Charles speaks at King HallDuke Univ...   \n",
       "\n",
       "                                               title  \\\n",
       "0                                Last week in Senate   \n",
       "1  UC Regents will vote on nonresident tuition hi...   \n",
       "2                    Cheating allegations in SOC 46A   \n",
       "3  Chancellor creates three task forces to improv...   \n",
       "4  Duke law professor presents lecture on voting ...   \n",
       "\n",
       "                                                 url category  \n",
       "0  https://theaggie.org/2018/03/13/last-week-in-s...   campus  \n",
       "1  https://theaggie.org/2018/03/12/uc-regents-wil...   campus  \n",
       "2  https://theaggie.org/2018/03/12/cheating-alleg...   campus  \n",
       "3  https://theaggie.org/2018/03/12/chancellor-cre...   campus  \n",
       "4  https://theaggie.org/2018/03/06/duke-law-profe...   campus  "
      ]
     },
     "execution_count": 9,
     "metadata": {},
     "output_type": "execute_result"
    }
   ],
   "source": [
    "big.head()"
   ]
  },
  {
   "cell_type": "code",
   "execution_count": 10,
   "metadata": {
    "scrolled": true
   },
   "outputs": [
    {
     "data": {
      "text/html": [
       "<div>\n",
       "<style>\n",
       "    .dataframe thead tr:only-child th {\n",
       "        text-align: right;\n",
       "    }\n",
       "\n",
       "    .dataframe thead th {\n",
       "        text-align: left;\n",
       "    }\n",
       "\n",
       "    .dataframe tbody tr th {\n",
       "        vertical-align: top;\n",
       "    }\n",
       "</style>\n",
       "<table border=\"1\" class=\"dataframe\">\n",
       "  <thead>\n",
       "    <tr style=\"text-align: right;\">\n",
       "      <th></th>\n",
       "      <th>author</th>\n",
       "      <th>text</th>\n",
       "      <th>title</th>\n",
       "      <th>url</th>\n",
       "      <th>category</th>\n",
       "    </tr>\n",
       "  </thead>\n",
       "  <tbody>\n",
       "    <tr>\n",
       "      <th>55</th>\n",
       "      <td>Written by: Ahash Francis — city@theaggie.org</td>\n",
       "      <td>Planning committees address Davis housing cris...</td>\n",
       "      <td>Social Services Commission meets to discuss We...</td>\n",
       "      <td>https://theaggie.org/2017/12/10/social-service...</td>\n",
       "      <td>city</td>\n",
       "    </tr>\n",
       "    <tr>\n",
       "      <th>56</th>\n",
       "      <td></td>\n",
       "      <td>Anti-Monsanto protesters seek discovery from Y...</td>\n",
       "      <td>Monsanto protesters allege violation of rights</td>\n",
       "      <td>https://theaggie.org/2017/12/10/monsanto-prote...</td>\n",
       "      <td>city</td>\n",
       "    </tr>\n",
       "    <tr>\n",
       "      <th>57</th>\n",
       "      <td>Written by: Olivia Rockeman — city@theaggie.org</td>\n",
       "      <td>Social Bikes, SACOG, cities of Davis, Sacramen...</td>\n",
       "      <td>Bike-share system to launch in Sacramento, Dav...</td>\n",
       "      <td>https://theaggie.org/2017/12/07/bike-share-sys...</td>\n",
       "      <td>city</td>\n",
       "    </tr>\n",
       "    <tr>\n",
       "      <th>58</th>\n",
       "      <td>Written by: Dylan Svoboda — city@theaggie.org</td>\n",
       "      <td>Restoration will give rise to ecological activ...</td>\n",
       "      <td>North Davis lot to go through habitat restoration</td>\n",
       "      <td>https://theaggie.org/2017/12/05/north-davis-lo...</td>\n",
       "      <td>city</td>\n",
       "    </tr>\n",
       "    <tr>\n",
       "      <th>59</th>\n",
       "      <td>“Ongoing issue with chickens being within 40 f...</td>\n",
       "      <td>Who let the chickens out?Nov. 15“Reporting par...</td>\n",
       "      <td>Police Logs</td>\n",
       "      <td>https://theaggie.org/2017/12/05/police-logs-34/</td>\n",
       "      <td>city</td>\n",
       "    </tr>\n",
       "  </tbody>\n",
       "</table>\n",
       "</div>"
      ],
      "text/plain": [
       "                                               author  \\\n",
       "55      Written by: Ahash Francis — city@theaggie.org   \n",
       "56                                                      \n",
       "57    Written by: Olivia Rockeman — city@theaggie.org   \n",
       "58      Written by: Dylan Svoboda — city@theaggie.org   \n",
       "59  “Ongoing issue with chickens being within 40 f...   \n",
       "\n",
       "                                                 text  \\\n",
       "55  Planning committees address Davis housing cris...   \n",
       "56  Anti-Monsanto protesters seek discovery from Y...   \n",
       "57  Social Bikes, SACOG, cities of Davis, Sacramen...   \n",
       "58  Restoration will give rise to ecological activ...   \n",
       "59  Who let the chickens out?Nov. 15“Reporting par...   \n",
       "\n",
       "                                                title  \\\n",
       "55  Social Services Commission meets to discuss We...   \n",
       "56     Monsanto protesters allege violation of rights   \n",
       "57  Bike-share system to launch in Sacramento, Dav...   \n",
       "58  North Davis lot to go through habitat restoration   \n",
       "59                                        Police Logs   \n",
       "\n",
       "                                                  url category  \n",
       "55  https://theaggie.org/2017/12/10/social-service...     city  \n",
       "56  https://theaggie.org/2017/12/10/monsanto-prote...     city  \n",
       "57  https://theaggie.org/2017/12/07/bike-share-sys...     city  \n",
       "58  https://theaggie.org/2017/12/05/north-davis-lo...     city  \n",
       "59    https://theaggie.org/2017/12/05/police-logs-34/     city  "
      ]
     },
     "execution_count": 10,
     "metadata": {},
     "output_type": "execute_result"
    }
   ],
   "source": [
    "big.tail()"
   ]
  },
  {
   "cell_type": "markdown",
   "metadata": {},
   "source": [
    "__Exercise 1.4.__ Use the Aggie corpus to answer the following questions. Use plots to support your analysis.\n",
    "\n",
    "* What topics does the Aggie cover the most? Do city articles typically cover different topics than campus articles?\n",
    "\n",
    "* What are the titles of the top 3 pairs of most similar articles? Examine each pair of articles. What words do they have in common?\n",
    "\n",
    "* Do you think this corpus is representative of the Aggie? Why or why not? What kinds of inference can this corpus support? Explain your reasoning.\n",
    "\n",
    "Hints:\n",
    "\n",
    "*   The [nltk book](http://www.nltk.org/book/) and [scikit-learn documentation](http://scikit-learn.org/stable/modules/feature_extraction.html#text-feature-extraction) may be helpful here.\n",
    "\n",
    "*   You can determine whether city articles are \"near\" campus articles from the similarity matrix or with k-nearest neighbors.\n",
    "\n",
    "*   If you want, you can use the [wordcloud](http://amueller.github.io/word_cloud/) package to plot a word cloud. To install the package, run\n",
    "    ```\n",
    "    conda install -c https://conda.anaconda.org/amueller wordcloud\n",
    "    ```\n",
    "    in a terminal. Word clouds look nice and are easy to read, but are less precise than bar plots."
   ]
  },
  {
   "cell_type": "code",
   "execution_count": 11,
   "metadata": {
    "collapsed": true
   },
   "outputs": [],
   "source": [
    "import collections\n",
    "import nltk\n",
    "#nltk.download()\n",
    "from textblob import TextBlob\n",
    "from nltk.corpus import stopwords\n",
    "stopwords = stopwords.words(\"english\")\n",
    "\n",
    "from sklearn.feature_extraction.text import TfidfVectorizer\n",
    "\n",
    "\n",
    "stopwords.extend(['uc',\"davis\",\"”\",\"“\",\"’\",\"—\"])"
   ]
  },
  {
   "cell_type": "code",
   "execution_count": 12,
   "metadata": {
    "collapsed": true
   },
   "outputs": [],
   "source": [
    "from nltk.corpus import wordnet\n",
    "\n",
    "def wordnet_pos(tag):\n",
    "    \"\"\"Map a Brown POS tag to a WordNet POS tag.\"\"\"\n",
    "    \n",
    "    table = {\"N\": wordnet.NOUN, \"V\": wordnet.VERB, \"R\": wordnet.ADV, \"J\": wordnet.ADJ}\n",
    "    \n",
    "    # Default to a noun.\n",
    "    return table.get(tag[0], wordnet.NOUN)"
   ]
  },
  {
   "cell_type": "code",
   "execution_count": 13,
   "metadata": {},
   "outputs": [],
   "source": [
    "texts = []\n",
    "text2 = []\n",
    "text_counter=collections.Counter()\n",
    "\n",
    "for text in big.text:\n",
    "    blob = TextBlob(text)\n",
    "    new_text = \" \".join(w for w in blob.words if w.lower() not in stopwords)\n",
    "    blob = TextBlob(new_text)\n",
    "    tags = [wordnet_pos(x[1]) for x in blob.pos_tags]\n",
    "    new_text = \" \".join(x.lemmatize(t) for x, t in zip(blob.words, tags))\n",
    "    blob = TextBlob(new_text)\n",
    "    \n",
    "    texts.append(new_text)\n",
    "    text2.append(blob)\n",
    "    text_counter.update(blob.word_counts)\n"
   ]
  },
  {
   "cell_type": "code",
   "execution_count": 14,
   "metadata": {},
   "outputs": [
    {
     "data": {
      "text/plain": [
       "[('say', 760),\n",
       " ('student', 750),\n",
       " ('city', 254),\n",
       " ('community', 253),\n",
       " ('people', 240),\n",
       " ('make', 225)]"
      ]
     },
     "execution_count": 14,
     "metadata": {},
     "output_type": "execute_result"
    }
   ],
   "source": [
    "text_counter.most_common(6)"
   ]
  },
  {
   "cell_type": "markdown",
   "metadata": {},
   "source": [
    "So that, student, city ,comunity is the three topics the Aggie cover the most if 'say' is not a meaningful topic."
   ]
  },
  {
   "cell_type": "code",
   "execution_count": 15,
   "metadata": {
    "collapsed": true
   },
   "outputs": [],
   "source": [
    "citytext = collections.Counter()\n",
    "for text in big.text[:60]:\n",
    "    blob = TextBlob(text)\n",
    "    new_text = \" \".join(w for w in blob.words if w.lower() not in stopwords)\n",
    "    blob = TextBlob(new_text)\n",
    "    tags = [wordnet_pos(x[1]) for x in blob.pos_tags]\n",
    "    new_text = \" \".join(x.lemmatize(t) for x, t in zip(blob.words, tags))\n",
    "    blob = TextBlob(new_text)\n",
    "    \n",
    "    citytext.update(blob.word_counts)"
   ]
  },
  {
   "cell_type": "code",
   "execution_count": 16,
   "metadata": {
    "collapsed": true
   },
   "outputs": [],
   "source": [
    "campustext = collections.Counter()\n",
    "for text in big.text[-60:]:\n",
    "    blob = TextBlob(text)\n",
    "    new_text = \" \".join(w for w in blob.words if w.lower() not in stopwords)\n",
    "    blob = TextBlob(new_text)\n",
    "    tags = [wordnet_pos(x[1]) for x in blob.pos_tags]\n",
    "    new_text = \" \".join(x.lemmatize(t) for x, t in zip(blob.words, tags))\n",
    "    blob = TextBlob(new_text)\n",
    "    \n",
    "    campustext.update(blob.word_counts)"
   ]
  },
  {
   "cell_type": "markdown",
   "metadata": {},
   "source": [
    "The more words they have in common, the larger the dot product will be."
   ]
  },
  {
   "cell_type": "code",
   "execution_count": 17,
   "metadata": {},
   "outputs": [
    {
     "data": {
      "text/plain": [
       "0.0010381843900213136"
      ]
     },
     "execution_count": 17,
     "metadata": {},
     "output_type": "execute_result"
    }
   ],
   "source": [
    "df = pd.DataFrame([citytext,campustext]).T.fillna(0)\n",
    "tf = df/df.sum()\n",
    "sum(tf[0]*tf[1])"
   ]
  },
  {
   "cell_type": "markdown",
   "metadata": {},
   "source": [
    "the value is so small. It may be different."
   ]
  },
  {
   "cell_type": "markdown",
   "metadata": {},
   "source": [
    "### What are the titles of the top 3 pairs of most similar articles? Examine each pair of articles. What words do they have in common?"
   ]
  },
  {
   "cell_type": "code",
   "execution_count": 18,
   "metadata": {
    "collapsed": true
   },
   "outputs": [],
   "source": [
    "# to get the frequcy of the words of the passage\n",
    "def fun1(number):\n",
    "    count = collections.Counter()\n",
    "    text = big.text.iloc[number]\n",
    "    blob = TextBlob(text)\n",
    "    new_text = \" \".join(w for w in blob.words if w.lower() not in stopwords)\n",
    "    blob = TextBlob(new_text)\n",
    "    tags = [wordnet_pos(x[1]) for x in blob.pos_tags]\n",
    "    new_text = \" \".join(x.lemmatize(t) for x, t in zip(blob.words, tags))\n",
    "    blob = TextBlob(new_text)\n",
    "    count.update(blob.word_counts)\n",
    "    return count"
   ]
  },
  {
   "cell_type": "code",
   "execution_count": 19,
   "metadata": {
    "collapsed": true
   },
   "outputs": [],
   "source": [
    "#get the top 10 words most in common\n",
    "def fun2(number1,number2):\n",
    "    a=fun1(number1)\n",
    "    b=fun1(number2)\n",
    "    df = pd.DataFrame([a,b]).T.fillna(0)\n",
    "    tf = df/df.sum()\n",
    "    results = (tf[0]*tf[1]).sort_values(ascending=False)[:10].index\n",
    "    return list(results)"
   ]
  },
  {
   "cell_type": "code",
   "execution_count": 20,
   "metadata": {},
   "outputs": [],
   "source": [
    "import numpy as np\n",
    "tf_idf = TfidfVectorizer().fit_transform(texts)\n",
    "similarity = (tf_idf * tf_idf.T-np.eye(120))"
   ]
  },
  {
   "cell_type": "markdown",
   "metadata": {},
   "source": [
    "The first pair"
   ]
  },
  {
   "cell_type": "code",
   "execution_count": 21,
   "metadata": {},
   "outputs": [
    {
     "data": {
      "text/plain": [
       "(8, 20)"
      ]
     },
     "execution_count": 21,
     "metadata": {},
     "output_type": "execute_result"
    }
   ],
   "source": [
    "np.unravel_index(similarity.argmax(), similarity.shape)"
   ]
  },
  {
   "cell_type": "code",
   "execution_count": 22,
   "metadata": {},
   "outputs": [
    {
     "data": {
      "text/plain": [
       "'Executive ticket candidates claim biases against non-ASUCD affiliated individuals'"
      ]
     },
     "execution_count": 22,
     "metadata": {},
     "output_type": "execute_result"
    }
   ],
   "source": [
    "big.title.iloc[8]"
   ]
  },
  {
   "cell_type": "code",
   "execution_count": 23,
   "metadata": {
    "scrolled": true
   },
   "outputs": [
    {
     "data": {
      "text/plain": [
       "'Adam Hatefi and Shreya Deshpande disqualified after missing mandatory Candidate Workshop'"
      ]
     },
     "execution_count": 23,
     "metadata": {},
     "output_type": "execute_result"
    }
   ],
   "source": [
    "big.title.iloc[20]"
   ]
  },
  {
   "cell_type": "code",
   "execution_count": 24,
   "metadata": {},
   "outputs": [
    {
     "data": {
      "text/plain": [
       "['committee',\n",
       " 'candidate',\n",
       " 'elections',\n",
       " 'say',\n",
       " 'deshpande',\n",
       " 'asucd',\n",
       " 'workshop',\n",
       " 'slate',\n",
       " 'disqualification',\n",
       " 'hatefi']"
      ]
     },
     "execution_count": 24,
     "metadata": {},
     "output_type": "execute_result"
    }
   ],
   "source": [
    "fun2(8,20)"
   ]
  },
  {
   "cell_type": "markdown",
   "metadata": {},
   "source": [
    "The second pair"
   ]
  },
  {
   "cell_type": "code",
   "execution_count": 25,
   "metadata": {},
   "outputs": [
    {
     "data": {
      "text/plain": [
       "(18, 43)"
      ]
     },
     "execution_count": 25,
     "metadata": {},
     "output_type": "execute_result"
    }
   ],
   "source": [
    "similarity[8,20]=0\n",
    "similarity[20,8]=0\n",
    "np.unravel_index(similarity.argmax(), similarity.shape)"
   ]
  },
  {
   "cell_type": "code",
   "execution_count": 26,
   "metadata": {},
   "outputs": [
    {
     "data": {
      "text/plain": [
       "'Mental Health Town Hall erupts in protest'"
      ]
     },
     "execution_count": 26,
     "metadata": {},
     "output_type": "execute_result"
    }
   ],
   "source": [
    "big.title.iloc[18]"
   ]
  },
  {
   "cell_type": "code",
   "execution_count": 27,
   "metadata": {
    "scrolled": true
   },
   "outputs": [
    {
     "data": {
      "text/plain": [
       "'Internal audit reveals steep decline in counselors, $250,000 worth of questionably allocated funds'"
      ]
     },
     "execution_count": 27,
     "metadata": {},
     "output_type": "execute_result"
    }
   ],
   "source": [
    "big.title.iloc[43]"
   ]
  },
  {
   "cell_type": "code",
   "execution_count": 28,
   "metadata": {},
   "outputs": [
    {
     "data": {
      "text/plain": [
       "['student',\n",
       " 'say',\n",
       " 'health',\n",
       " 'counselor',\n",
       " 'mental',\n",
       " 'walter',\n",
       " 'audit',\n",
       " 'staff',\n",
       " 'service',\n",
       " 'need']"
      ]
     },
     "execution_count": 28,
     "metadata": {},
     "output_type": "execute_result"
    }
   ],
   "source": [
    "fun2(18,43)"
   ]
  },
  {
   "cell_type": "markdown",
   "metadata": {},
   "source": [
    "the third pair"
   ]
  },
  {
   "cell_type": "code",
   "execution_count": 29,
   "metadata": {},
   "outputs": [
    {
     "data": {
      "text/plain": [
       "(17, 25)"
      ]
     },
     "execution_count": 29,
     "metadata": {},
     "output_type": "execute_result"
    }
   ],
   "source": [
    "similarity[18,43]=0\n",
    "similarity[43,18]=0\n",
    "np.unravel_index(similarity.argmax(), similarity.shape)"
   ]
  },
  {
   "cell_type": "code",
   "execution_count": 30,
   "metadata": {},
   "outputs": [
    {
     "data": {
      "text/plain": [
       "'ASUCD executive tickets hold CoHo debate'"
      ]
     },
     "execution_count": 30,
     "metadata": {},
     "output_type": "execute_result"
    }
   ],
   "source": [
    "big.title.iloc[17]"
   ]
  },
  {
   "cell_type": "code",
   "execution_count": 31,
   "metadata": {},
   "outputs": [
    {
     "data": {
      "text/plain": [
       "'2018 ASUCD Winter Elections — meet the candidates'"
      ]
     },
     "execution_count": 31,
     "metadata": {},
     "output_type": "execute_result"
    }
   ],
   "source": [
    "big.title.iloc[25]"
   ]
  },
  {
   "cell_type": "code",
   "execution_count": 32,
   "metadata": {},
   "outputs": [
    {
     "data": {
      "text/plain": [
       "['student',\n",
       " 'asucd',\n",
       " 'run',\n",
       " 'major',\n",
       " 'senate',\n",
       " 'slate',\n",
       " 'transfer',\n",
       " 'third-year',\n",
       " 'work',\n",
       " 'campus']"
      ]
     },
     "execution_count": 32,
     "metadata": {},
     "output_type": "execute_result"
    }
   ],
   "source": [
    "fun2(17,25)"
   ]
  },
  {
   "cell_type": "markdown",
   "metadata": {},
   "source": [
    "The last part."
   ]
  },
  {
   "cell_type": "code",
   "execution_count": 33,
   "metadata": {},
   "outputs": [
    {
     "data": {
      "text/plain": [
       "[('say', 760),\n",
       " ('student', 750),\n",
       " ('city', 254),\n",
       " ('community', 253),\n",
       " ('people', 240),\n",
       " ('make', 225),\n",
       " ('work', 224),\n",
       " ('also', 214),\n",
       " ('campus', 193),\n",
       " ('would', 187),\n",
       " ('health', 185),\n",
       " ('year', 182),\n",
       " ('go', 182),\n",
       " ('one', 162),\n",
       " ('need', 158),\n",
       " ('member', 156),\n",
       " ('get', 154),\n",
       " ('project', 152),\n",
       " ('major', 149),\n",
       " ('asucd', 146)]"
      ]
     },
     "execution_count": 33,
     "metadata": {},
     "output_type": "execute_result"
    }
   ],
   "source": [
    "text_counter.most_common(20)"
   ]
  },
  {
   "cell_type": "markdown",
   "metadata": {},
   "source": [
    "Most of the word above is about the school activity or the subject near school.  I think is representative of the Aggie."
   ]
  }
 ],
 "metadata": {
  "kernelspec": {
   "display_name": "Python 3",
   "language": "python",
   "name": "python3"
  },
  "language_info": {
   "codemirror_mode": {
    "name": "ipython",
    "version": 3
   },
   "file_extension": ".py",
   "mimetype": "text/x-python",
   "name": "python",
   "nbconvert_exporter": "python",
   "pygments_lexer": "ipython3",
   "version": "3.6.3"
  }
 },
 "nbformat": 4,
 "nbformat_minor": 2
}
