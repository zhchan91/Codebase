{
 "cells": [
  {
   "cell_type": "markdown",
   "metadata": {},
   "source": [
    "## Problem 1. Multicore Programming "
   ]
  },
  {
   "cell_type": "code",
   "execution_count": 1,
   "metadata": {
    "collapsed": true
   },
   "outputs": [],
   "source": [
    "import pickle\n",
    "import multiprocessing as mp\n",
    "import numpy as np\n",
    "import time\n",
    "\n",
    "f = open('data_files.pl','rb')\n",
    "data = pickle.load(f,encoding='bytes')\n",
    "Xtrain,ytrain,Xtest,ytest = data"
   ]
  },
  {
   "cell_type": "markdown",
   "metadata": {},
   "source": [
    "The original one."
   ]
  },
  {
   "cell_type": "code",
   "execution_count": 2,
   "metadata": {},
   "outputs": [
    {
     "name": "stdout",
     "output_type": "stream",
     "text": [
      "Accuracy 0.794000 Time 145.745534 secs.\n",
      "\n"
     ]
    }
   ],
   "source": [
    "def go_nn(Xtrain, ytrain, Xtest, ytest):\n",
    "    correct =0\n",
    "    for i in range(Xtest.shape[0]): ## For all testing instances\n",
    "        nowXtest = Xtest[i,:]\n",
    "        ### Find the index of nearest neighbor in training data\n",
    "        dis_smallest = np.linalg.norm(Xtrain[0,:]-nowXtest) \n",
    "        idx = 0\n",
    "        for j in range(1, Xtrain.shape[0]):\n",
    "            dis = np.linalg.norm(nowXtest-Xtrain[j,:])\n",
    "            if dis < dis_smallest:\n",
    "                dis_smallest = dis\n",
    "                idx = j\n",
    "        ### Now idx is the index for the nearest neighbor\n",
    "        \n",
    "        ## check whether the predicted label matches the true label\n",
    "        if ytest[i] == ytrain[idx]:  \n",
    "            correct += 1\n",
    "    acc = correct/float(Xtest.shape[0])\n",
    "    return acc\n",
    "\n",
    "start_time = time.time()\n",
    "acc = go_nn(Xtrain, ytrain, Xtest, ytest)\n",
    "print (\"Accuracy %lf Time %lf secs.\\n\"%(acc, time.time()-start_time))"
   ]
  },
  {
   "cell_type": "markdown",
   "metadata": {},
   "source": [
    "The multiprocessing one."
   ]
  },
  {
   "cell_type": "code",
   "execution_count": 3,
   "metadata": {},
   "outputs": [
    {
     "name": "stdout",
     "output_type": "stream",
     "text": [
      "Accuracy 0.794000 Time 36.029794 secs.\n",
      "\n"
     ]
    }
   ],
   "source": [
    "import function as fn\n",
    "start_time = time.time()\n",
    "correct = 0\n",
    "if __name__ == '__main__':\n",
    "    pool = mp.Pool(processes = 4)\n",
    "    tasks = [(Xtrain,ytrain,z) for z in Xtest ]\n",
    "    results = pool.starmap(fn.f,tasks)\n",
    "    pool.close()\n",
    "for i in range(Xtest.shape[0]):\n",
    "    if ytest[i] == ytrain[results[i]]:\n",
    "        correct += 1\n",
    "acc = correct/float(Xtest.shape[0])\n",
    "print (\"Accuracy %lf Time %lf secs.\\n\"%(acc, time.time()-start_time))"
   ]
  },
  {
   "cell_type": "markdown",
   "metadata": {},
   "source": [
    "## Problem 2 Parallel Gradient Descent"
   ]
  },
  {
   "cell_type": "markdown",
   "metadata": {},
   "source": [
    "For the dataset, I will use the same data set as problem 1. \n",
    "\n",
    "Here is the single process with dense representation."
   ]
  },
  {
   "cell_type": "code",
   "execution_count": 4,
   "metadata": {},
   "outputs": [
    {
     "name": "stdout",
     "output_type": "stream",
     "text": [
      "Accuracy 0.753000 Time 40.469853 secs.\n",
      "\n"
     ]
    }
   ],
   "source": [
    "import math\n",
    "from sklearn import metrics\n",
    "\n",
    "def Logi(eta,X,y):\n",
    "    \"\"\"\n",
    "    Gradient Descent with Fixed Step Size \n",
    "    \"\"\"\n",
    "    #set w0\n",
    "    p = X.shape[1]\n",
    "    n = X.shape[0]\n",
    "    epsilon = 0.001\n",
    "    w = np.matrix(np.zeros(p)).T\n",
    "    \n",
    "    def f1(w,x,y):\n",
    "        g = 0\n",
    "        for i in range(n):\n",
    "            g += (-y[i]/(1+math.exp(y[i]*float(w.T.dot(x[i,].T)))))*x[i,].T\n",
    "        return g/n+w\n",
    "    \n",
    "    g = f1(w,X,y)\n",
    "    r0 = np.linalg.norm(g)\n",
    "    for i in range(200):\n",
    "        if np.linalg.norm(g)<epsilon*r0:\n",
    "            break \n",
    "        g = f1(w,X,y)\n",
    "        w = w - eta*g\n",
    "    return w\n",
    "\n",
    "def predict(w,x):\n",
    "    s = x@w\n",
    "    n =s.shape[0]\n",
    "    y = np.zeros(x.shape[0])\n",
    "    for i in range(n):\n",
    "        y[i] = 1/(1+math.exp(-s[i]))\n",
    "    y = np.sign(y-0.5+10**-15)#to get rid of those exact 0.5\n",
    "    return y\n",
    "\n",
    "start_time = time.time()\n",
    "w = Logi(10**-2,Xtrain,ytrain)\n",
    "end_time = time.time()\n",
    "\n",
    "confusion = metrics.confusion_matrix(predict(w,Xtest),ytest)\n",
    "acc = (confusion[0,0]+confusion[1,1])/sum(sum(confusion))\n",
    "\n",
    "print (\"Accuracy %lf Time %lf secs.\\n\"%(acc, end_time - start_time))"
   ]
  },
  {
   "cell_type": "markdown",
   "metadata": {},
   "source": [
    "The multiprocesses one."
   ]
  },
  {
   "cell_type": "code",
   "execution_count": 5,
   "metadata": {},
   "outputs": [
    {
     "name": "stdout",
     "output_type": "stream",
     "text": [
      "Accuracy 0.753000 Time 41.050649 secs.\n",
      "\n"
     ]
    }
   ],
   "source": [
    "import math\n",
    "from sklearn import metrics\n",
    "import function as fn\n",
    "\n",
    "def Logi(eta,X,y):\n",
    "    \"\"\"\n",
    "    Gradient Descent with Fixed Step Size \n",
    "    \"\"\"\n",
    "    \n",
    "    if __name__ == '__main__':\n",
    "        \n",
    "        \n",
    "        #set w0\n",
    "        p = X.shape[1]\n",
    "        n = X.shape[0]\n",
    "        epsilon = 0.001\n",
    "        w = np.matrix(np.zeros(p)).T\n",
    "        \n",
    "        def f1(w,A):\n",
    "            data = [(w,a) for a in A]\n",
    "            results = np.mean(pool.starmap(fn.f2,data),axis=0)\n",
    "            return results+w\n",
    "        \n",
    "        pool = mp.Pool(processes = 4)\n",
    "        A = np.column_stack((y,X))\n",
    "        g = f1(w,A)\n",
    "        r0 = np.linalg.norm(g)\n",
    "        for i in range(200):\n",
    "            if np.linalg.norm(g)<epsilon*r0:\n",
    "                break \n",
    "            g = f1(w,A)\n",
    "            w = w - eta*g\n",
    "                \n",
    "        pool.close()#i put it here for not to open and close repeatly which is time consuming.\n",
    "    return w\n",
    "\n",
    "def predict(w,x):\n",
    "    s = x@w\n",
    "    n =s.shape[0]\n",
    "    y = np.zeros(x.shape[0])\n",
    "    for i in range(n):\n",
    "        y[i] = 1/(1+math.exp(-s[i]))\n",
    "    y = np.sign(y-0.5+10**-15)#to get rid of those exact 0.5\n",
    "    return y\n",
    "\n",
    "start_time = time.time()\n",
    "w = Logi(10**-2,Xtrain,ytrain)\n",
    "end_time = time.time()\n",
    "\n",
    "confusion = metrics.confusion_matrix(predict(w,Xtest),ytest)\n",
    "acc = (confusion[0,0]+confusion[1,1])/sum(sum(confusion))\n",
    "\n",
    "print (\"Accuracy %lf Time %lf secs.\\n\"%(acc, end_time - start_time))"
   ]
  },
  {
   "cell_type": "markdown",
   "metadata": {},
   "source": [
    "I tried different methods but the code of the multi one is still took a long time. I check the time from parts by parts. \n",
    "\n",
    "data = [(w,a) for a in A]\n",
    "\n",
    "It takes about 1/3 of the total time which i do not know how to reduce the time of it. Although the multiprogressing reduce some time but the preparation for it is time consuming. The results of this is both method takes about the same time."
   ]
  },
  {
   "cell_type": "markdown",
   "metadata": {},
   "source": [
    "For the question in the e-mail, kNN is time consuming in predict part(easy to model but hard to predict) while logistics is time consuming in the regression part (easy to predict but hard to regress)."
   ]
  }
 ],
 "metadata": {
  "kernelspec": {
   "display_name": "Python 3",
   "language": "python",
   "name": "python3"
  },
  "language_info": {
   "codemirror_mode": {
    "name": "ipython",
    "version": 3
   },
   "file_extension": ".py",
   "mimetype": "text/x-python",
   "name": "python",
   "nbconvert_exporter": "python",
   "pygments_lexer": "ipython3",
   "version": "3.6.3"
  }
 },
 "nbformat": 4,
 "nbformat_minor": 2
}
