{
 "cells": [
  {
   "cell_type": "markdown",
   "metadata": {},
   "source": [
    "Chen Zihao\n",
    "\n",
    "915490404"
   ]
  },
  {
   "cell_type": "markdown",
   "metadata": {},
   "source": [
    "# STA 208: Homework 3 (Do not distribute)\n",
    "\n",
    "## Due Monday 5/21/2018 in class and online by 10am\n",
    "\n",
    "__Instructions:__ To make grading easier for the TAs please print out your homework and also submit it on canvas.  The canvas should include all of your code either in this notebook file, or a separate python file that is imported and ran in this notebook.  We should be able to open this notebook and run everything here by running the cells in sequence.  The written portions can be either done in markdown and TeX in new cells or written clearly by hand when you hand it in.\n",
    "\n",
    "- Code should be well organized and documented\n",
    "- All math should be clear and make sense sequentially\n",
    "- When in doubt explain what is going on\n",
    "- You will be graded on correctness of your math, code efficiency and succinctness, and conclusions and modelling decisions"
   ]
  },
  {
   "cell_type": "markdown",
   "metadata": {},
   "source": [
    "__Exercise 1.1__ (10 pts)\n",
    "\n",
    "Recall that surrogate losses for large margin classification take the form, $\\phi(y_i x_i^\\top \\beta)$ where $y_i \\in \\{-1,1\\}$ and $\\beta, x_i \\in \\mathbb R^p$.\n",
    "\n",
    "The following functions are used as surrogate losses for large margin classification.  Demonstrate if they are convex or not, and follow the instructions.\n",
    "\n",
    "1. exponential loss: $\\phi(x) = e^{-x}$\n",
    "1. truncated quadratic loss: $\\phi(x) = (\\max\\{1-x,0\\})^2$\n",
    "1. hinge loss: $\\phi(x) = \\max\\{1-x,0\\}$\n",
    "1. sigmoid loss: $\\phi(x) = 1 - \\tanh(\\kappa x)$, for fixed $\\kappa > 0$\n",
    "1. Plot these as a function of $x$.\n",
    "\n",
    "(This problem is due to notes of Larry Wasserman.) \n"
   ]
  },
  {
   "cell_type": "markdown",
   "metadata": {},
   "source": [
    "### 1.1.1 exponential loss: $\\phi(x) = e^{-x}$,\n",
    "\n",
    "$\\phi''(x) = e^{-x}>0$, it is convex.\n",
    "\n",
    "### 1.1.2 truncated quadratic loss: $\\phi(x) = (\\max\\{1-x,0\\})^2$\n",
    "\n",
    "for $x>1$,$\\phi(x) = 0$, for $x<1,\\phi(x) = (1-x)^2>0$ is a parabola. \n",
    "\n",
    "for any $x\\le 1,y\\ge1$, we can see that  $\\forall t \\in [0,1],\\phi(tx+(1-t)y)\\le \\phi(tx) \\le t\\phi(x)=t\\phi(x)+(1-t)\\phi(y)$\n",
    "\n",
    "it is convex.\n",
    "\n",
    "### 1.1.3 hinge loss: $\\phi(x) = \\max\\{1-x,0\\}$\n",
    "\n",
    "for $x>1$,$\\phi(x) = 0$ is a straight line, for $x<1,\\phi(x) = 1-x$ is a straight line. Both line satisfies convex in its own region.  \n",
    "\n",
    "for any $x\\le 1,y\\ge1$, we can see that  $\\forall t \\in [0,1],\\phi(tx+(1-t)y)\\le \\phi(tx) = t\\phi(x)=t\\phi(x)+(1-t)\\phi(y)$\n",
    "\n",
    "it is convex.\n",
    "\n",
    "### 1.1.4 sigmoid loss: $\\phi(x) = 1 - \\tanh(\\kappa x)$, for fixed $\\kappa > 0$\n",
    "\n",
    "$\\tanh(z)=\\frac {e^z-e^{-z}}{e^z+e^{-z}}$\n",
    "\n",
    "$\\phi(x) = 1 - \\tanh(kx)=1 - \\frac {e^{kx}-e^{-{kx}}}{e^{kx}+e^{-{kx}}} = \\frac {2e^{-{kx}}}{e^{kx}+e^{-{kx}}} $\n",
    "\n",
    "$\\phi'(x) = \\frac {-4k}{(e^{kx}+e^{-{kx}})^2} $\n",
    "\n",
    "$\\phi''(x) = \\frac {8k^2(e^{kx}-e^{-{kx}})}{(e^{kx}+e^{-{kx}})^3} $\n",
    "\n",
    "in order to let the second derivative greater than 0, we need \n",
    "\n",
    "$$\n",
    "\\begin{split}\n",
    "e^{kx}-e^{-{kx}}&>0\\\\\n",
    "kx&>-{kx}\\\\\n",
    "x&>-x\\\\\n",
    "x&>0\n",
    "\\end{split}\n",
    "$$\n",
    "\n",
    "which means it is not convex.\n",
    "\n",
    "### 1.1.5 Plot these as a function of $x$."
   ]
  },
  {
   "cell_type": "code",
   "execution_count": 1,
   "metadata": {},
   "outputs": [
    {
     "data": {
      "image/png": "[encoded data removed]",
      "text/plain": [
       "<matplotlib.figure.Figure at 0x28875a831d0>"
      ]
     },
     "metadata": {},
     "output_type": "display_data"
    }
   ],
   "source": [
    "import matplotlib.pyplot as plt\n",
    "import seaborn as sns\n",
    "import numpy as np\n",
    "x = np.linspace(-5,5,1000)\n",
    "y = [np.exp(i) for i in x]\n",
    "\n",
    "plt.subplot(221)\n",
    "plt.plot(x,[np.exp(-i) for i in x])\n",
    "\n",
    "plt.subplot(222)\n",
    "y = [(max(0,1-i))**2 for i in x]\n",
    "plt.plot(x,y)\n",
    "\n",
    "plt.subplot(223)\n",
    "y = [(max(0,1-i)) for i in x]\n",
    "plt.plot(x,y)\n",
    "\n",
    "plt.subplot(224)\n",
    "for k in np.arange(0.1,1.1,0.2):\n",
    "    y = [1-np.tanh(k*i) for i in x]\n",
    "    plt.plot(x,y)\n",
    "plt.show()"
   ]
  },
  {
   "cell_type": "markdown",
   "metadata": {},
   "source": [
    "__Exercise 1.2__ (20 pts)\n",
    "\n",
    "Consider the truncated quadratic loss from (1.1.2).  For brevity let $a_+ = max\\{a,0\\}$ denote the positive part of $a$.\n",
    "\n",
    "$$\\ell(y_i,x_i,\\beta) = \\phi(y_i x_i^\\top \\beta) = (1-y_i x_i^\\top \\beta)_+^2$$\n",
    "\n",
    "1. Consider the empirical risk, $R_n$ (the average loss over a training set) for the truncated quadratic loss.  What is gradient of $R_n$ in $\\beta$?  Does it always exists?\n",
    "1. Demonstrate that the gradient does not have continuous derivative everywhere.\n",
    "1. Recall that support vector machines used the hinge loss $(1 - y_i x_i^\\top)_+$ with a ridge regularization.  Write the regularized optimization method for the truncated quadratic loss, and derive the gradient of the regularized empirical risk.\n",
    "1. Because the loss does not have continuous Hessian, instead of the Newton method, we will use a quasi-Newton method that replaces the Hessian with a quasi-Hessian (another matrix that is meant to approximate the Hessian).  Consider the following quasi-Hessian of the regularized objective to be $$G(\\beta) = \\frac 1n \\sum_i 2 (x_i x_i^\\top 1\\{ y_i x_i^\\top \\beta > 1 \\}) + 2 \\lambda.$$  Demonstrate that the quasi-Hessian is positive definite, and write pseudo-code for quasi-Newton optimization."
   ]
  },
  {
   "cell_type": "markdown",
   "metadata": {},
   "source": [
    "### 1.2.1 \n",
    "\n",
    "$$\n",
    "R_n = \\frac 1n\\sum_{i=1}^n \\ell(y_i,x_i,\\beta) =\\frac 1n \\sum_{i=1}^n\\phi(y_i x_i^\\top \\beta) = \\frac 1n \\sum_{i=1}^n(1-y_i x_i^\\top \\beta)_+^2\n",
    "$$\n",
    "\n",
    "$$\n",
    "\\frac {\\partial R_n}{\\partial \\beta} = \\frac 1n\\sum_{i=1}^n \\frac {\\partial\\ell(y_i,x_i,\\beta)}{\\partial \\beta} =\\frac 1n \\sum_{i=1}^n\\frac {\\partial \\phi(y_i x_i^\\top \\beta) }{\\partial \\beta}\n",
    "$$\n",
    "\n",
    "for $y_i x_i^\\top \\beta>1$,\n",
    "$$\n",
    "\\frac {\\partial \\phi(y_i x_i^\\top \\beta) }{\\partial \\beta}=0\n",
    "$$\n",
    "\n",
    "for $y_i x_i^\\top \\beta<1$,\n",
    "$$\n",
    "\\frac {\\partial \\phi(y_i x_i^\\top \\beta) }{\\partial \\beta}=2(1-y_i x_i^\\top \\beta)y_i x_i\n",
    "$$\n",
    "\n",
    "as $y_i x_i^\\top \\beta\\rightarrow1^-$\n",
    "\n",
    "$$\n",
    "\\frac {\\partial \\phi(y_i x_i^\\top \\beta) }{\\partial \\beta}=2(1-y_i x_i^\\top \\beta)y_i x_i\\rightarrow 0\n",
    "$$\n",
    "\n",
    "which means $y_i x_i^\\top \\beta=1$ has 0 gradient in both sides.\n",
    "It always exists."
   ]
  },
  {
   "cell_type": "markdown",
   "metadata": {},
   "source": [
    "### 1.2.2.\n",
    "for $y_i x_i^\\top \\beta>1$,\n",
    "$$\n",
    "\\frac {\\partial \\phi(y_i x_i^\\top \\beta) }{\\partial \\beta}=0\n",
    "$$\n",
    "it is a constent so that the seconde derivative is 0 when $y_i x_i^\\top \\beta>1$\n",
    "\n",
    "for $y_i x_i^\\top \\beta<1$,\n",
    "$$\n",
    "\\begin{split}\n",
    "\\frac {\\partial \\phi(y_i x_i^\\top \\beta) }{\\partial \\beta}&=2(1-y_i x_i^\\top \\beta)y_i x_i =2y_i x_i-2y_i x_i^\\top \\beta y_i x_i  \\\\\n",
    "\\frac {\\partial^2 \\phi(y_i x_i^\\top \\beta) }{\\partial \\beta^2}&=2y_i^2 x_i x_i^\\top \\ne 0 ,if x_i \\ne 0\\space and\\space y_i \\ne 0\n",
    "\\end{split}\n",
    "$$\n",
    "\n",
    "when $y_i x_i^\\top \\beta\\to1$,the value of the second derivative of both sides is different,it is not continuous at this point so that the gradient does not have continuous derivative everywhere."
   ]
  },
  {
   "cell_type": "markdown",
   "metadata": {
    "collapsed": true
   },
   "source": [
    "### 1.2.3.\n",
    " the regularized optimization method for the truncated quadratic loss\n",
    "$$\n",
    "\\begin{split}\n",
    "\\min_\\beta \\frac 1 2 ||\\beta||^2_2, s.t.\\sum_{i=1}^n(1-y_ix_i^\\top\\beta)_+^2\\le C\\\\\n",
    "\\min_\\beta \\frac 1 n \\sum_{i=1}^n(1-y_ix_i^\\top\\beta)_+^2+\\lambda||\\beta||^2_2 := f(\\beta)\\\\\n",
    "\\nabla f(\\beta) = \\frac 2 n \\sum_{i=1}^n -(1-y_ix_i^\\top\\beta)_+y_ix_i^T+2\\lambda \\beta\n",
    "\\end{split}\n",
    "$$\n",
    "\n",
    " the gradient of the regularized empirical risk is shown as above.\n"
   ]
  },
  {
   "cell_type": "markdown",
   "metadata": {},
   "source": [
    "### 1.2.4.\n",
    "\n",
    "$$G(\\beta) = \\frac 1n \\sum_i 2 (x_i x_i^\\top 1\\{ y_i x_i^\\top \\beta > 1 \\}) + 2 \\lambda.$$\n",
    "\n",
    "$\\forall z \\in \\mathbb R^n,s.t. z\\ne 0$\n",
    "$$\n",
    "\\begin{split}\n",
    "z^\\top G(\\beta)z &= z^\\top (\\frac 1n \\sum_i 2 (x_i x_i^\\top 1\\{ y_i x_i^\\top \\beta > 1 \\}) + 2 \\lambda)z\\\\\n",
    "&= \\frac 1n \\sum_i 2 z^\\top(x_i x_i^\\top 1\\{ y_i x_i^\\top \\beta > 1 \\})z + 2 \\lambda z^\\top z\\\\\n",
    "&= \\frac 1n \\sum_{y_i x_i^\\top \\beta > 1} 2 z^\\top(x_i x_i^\\top)z + 2 \\lambda z^\\top z\\\\\n",
    "\\end{split}\n",
    "$$ \n",
    "\n",
    "Because $z^\\top(x_i x_i^\\top)z\\ge0$ and $\\lambda z^\\top z>0$, we have $z^\\top G(\\beta)z>0$ which means it is positive definite.\n",
    "\n",
    "Quasi-newton's methods:\n",
    "\n",
    "1. initialize $\\beta_k = 0$ and $\\epsilon>0$\n",
    "1. calculate $\\nabla f(\\beta_k) = \\frac 2 n \\sum_{i=1}^n -(1-y_ix_i^\\top\\beta_k)_+y_ix_i^T+2\\lambda \\beta_k$ \n",
    "1. calculate $G(\\beta_k)= \\frac 1n \\sum_i 2 (x_i x_i^\\top 1\\{ y_i x_i^\\top \\beta_k > 1 \\}) + 2 \\lambda.$\n",
    "1. $\\beta_{k+1} = \\beta_k - \\frac {\\nabla f(\\beta_k)}{G(\\beta_k)}$\n",
    "1. if  $|\\beta_{k+1} - \\beta_{k}| > \\epsilon$ go back to step 2, else, return $\\beta_{k+1}$"
   ]
  },
  {
   "cell_type": "markdown",
   "metadata": {},
   "source": [
    "__Exercise 1.3__ (20 pts)\n",
    "\n",
    "1. Consider a high-dimensional embedding, $Z = \\Phi(X)$ for the points and apply principal kernel analysis, consider the kernel matrix, how is its spectral decomposition related to the SVD of $Z$?  Suppose that we would like to have obtain the principal components (which here we define as $Z$ inner producted with the top right eigenvectors), how would you do that with accessing $K$ only?\n",
    "2. Below is a simple simulation, apply kernel PCA with quadratic kernel using sklearn.  Plot the principle components, then reconstruct X with only the first PC and plot it with the data X."
   ]
  },
  {
   "cell_type": "markdown",
   "metadata": {},
   "source": [
    "### 1.3.1\n",
    "$ k(x_i,x_j)=\\Phi(x_i)^\\top\\Phi(x_j)$\n",
    "\n",
    "let $C =\\Phi(X)^\\top\\Phi(X) = Z^\\top Z$\n",
    "\n",
    "let the eigenvalue and eigenvector of $C$ is $\\lambda_k$ and $v_k$, in other words:\n",
    "\n",
    "$C v_k = \\lambda_k v_k(k=1,2,3,...,D)$ where D is the dimension of the high-dimension space.\n",
    "\n",
    "$v_k\\in span \\{\\Phi(x_1),...,\\Phi(x_N)\\}$, which means $\\exists \\alpha_{k1},...,\\alpha_{kN}$ such that\n",
    "\n",
    "$v_k = \\sum_{i=1}^N\\alpha_{ki}\\Phi(x_i)$\n",
    "\n",
    "$$\n",
    "\\begin{split}\n",
    "C v_k &= \\lambda_k v_k\\\\\n",
    "\\lambda_k\\Phi(x_j)^\\top v_k& =\\Phi(x_j)^\\top  C v_k\\\\\n",
    "left& = \\lambda_k\\Phi(x_j)^\\top (\\sum_{i=1}^N\\alpha_{ki}\\Phi(x_i))\\\\\n",
    "& =\\lambda_k (\\sum_{i=1}^N\\alpha_{ki}\\Phi(x_j)^\\top\\Phi(x_i))\\\\\n",
    "& =\\lambda_k (\\sum_{i=1}^N\\alpha_{ki} k(x_j,x_i))\\\\\n",
    "& =\\lambda_k ( K\\alpha_{k})_j\\\\\n",
    "\\end{split}\n",
    "$$\n",
    "\n",
    "where $ K = ( k(x_i,x_j))_{N\\times N}, \\alpha_{k}=(\\alpha_{k1},...,\\alpha_{kN})^\\top$\n",
    "\n",
    "$$\n",
    "\\begin{split}\n",
    "\\lambda_k\\Phi(x_j)^\\top v_k& =\\Phi(x_j)^\\top  C v_k\\\\\n",
    "right &= \\Phi(x_j)^\\top \\sum_l^N \\Phi(x_l)\\Phi(x_l)^\\top\\sum_i^N\\alpha_{ki}\\Phi(x_i)\\\\\n",
    "&=\\sum_i^N\\sum_l^N\\alpha_{ki}\\Phi(x_j)^\\top\\Phi(x_l)\\Phi(x_l)^\\top\\Phi(x_i)\\\\\n",
    "&= \\sum_i^N\\sum_l^N\\alpha_{ki} k(x_j,x_l) k(x_l,x_i)\\\\\n",
    "&=( K^2\\alpha_{k})_j\\\\\n",
    "\\end{split}\n",
    "$$\n",
    "\n",
    "left = right for all j so that we have \n",
    "\n",
    "$$\n",
    "\\begin{split}\n",
    "\\lambda_k K\\alpha_k &= K^2 \\alpha_k\\\\\n",
    " K\\alpha_k &= \\lambda_k\\alpha_k\\\\\n",
    "\\end{split}\n",
    "$$\n",
    "\n",
    "which means the eigenvalue of the kernel matrix K is $\\lambda_k$ where $\\lambda_k$ is also the eigenvlue of $ C =\\Phi(X)^\\top\\Phi(X)$,\n",
    "\n",
    "the eigenvector of C $v_k = \\sum_i^N \\alpha_{ki}\\Phi(x_i) = \\Phi \\alpha_k$ where $\\Phi = (\\Phi(x_1),...,\\Phi(x_N))$\n",
    "$$\n",
    "\\begin{split}\n",
    "v^\\top_iv_j &= \\alpha_i^\\top  \\Phi^\\top  \\Phi \\alpha_k\\\\\n",
    "& = \\alpha_i^\\top  K \\alpha_k\\\\\n",
    "& = \\alpha_i^\\top  \\lambda_k \\alpha_k\\\\\n",
    "& =  \\lambda_k \\alpha_i^\\top \\alpha_k\\\\\n",
    "& = 0\n",
    "\\end{split}\n",
    "$$\n",
    "what's more, we want $v_k$ is a unit vector:\n",
    "$$\n",
    "\\begin{split}\n",
    "1 &= v^\\top_kv_k\\\\\n",
    "& = \\alpha_k^\\top  \\Phi^\\top  \\Phi \\alpha_k\\\\\n",
    "& = \\alpha_k^\\top  K \\alpha_k\\\\\n",
    "& = \\alpha_k^\\top  \\lambda_k \\alpha_k\\\\\n",
    "& =  \\lambda_k \\alpha_k^\\top \\alpha_k\\\\\n",
    "& =  \\lambda_k ||\\alpha_k||^2\\\\\n",
    "||\\alpha_k|| & = \\frac 1 {\\sqrt{\\lambda_k}}\n",
    "\\end{split}\n",
    "$$\n",
    "\n",
    "To sum up, $C$ has eigenvalue $\\lambda_k$ and eigenvector $v_k = \\frac 1 {\\sqrt{ \\lambda_k}} \\Phi\\alpha_k$ and $\\lambda_k$ and $\\alpha_k$ are the eigenvalue and eigenvector of kernel matrix K."
   ]
  },
  {
   "cell_type": "markdown",
   "metadata": {},
   "source": [
    "To get the first PC, use kernel trick $K(x_i,t)$\n",
    "$$\n",
    "v_1^T\\Phi(t) = \\sum_i^N\\frac {\\alpha_{1i}}{\\sqrt\\lambda_k}K(x_i,t)\n",
    "$$"
   ]
  },
  {
   "cell_type": "code",
   "execution_count": 2,
   "metadata": {
    "collapsed": true
   },
   "outputs": [],
   "source": [
    "from matplotlib import pyplot as plt\n",
    "import numpy as np"
   ]
  },
  {
   "cell_type": "code",
   "execution_count": 3,
   "metadata": {
    "collapsed": true
   },
   "outputs": [],
   "source": [
    "n = 100\n",
    "X = np.random.normal(0,.5,size=(n,2))\n",
    "Theta = 2.*np.pi*np.arange(n)/n\n",
    "X[:,0] += 3.*np.sin(Theta)\n",
    "X[:,1] += 3.*np.cos(Theta)"
   ]
  },
  {
   "cell_type": "code",
   "execution_count": 4,
   "metadata": {},
   "outputs": [
    {
     "data": {
      "image/png": "[encoded data removed]",
      "text/plain": [
       "<matplotlib.figure.Figure at 0x28875a723c8>"
      ]
     },
     "metadata": {},
     "output_type": "display_data"
    }
   ],
   "source": [
    "plt.scatter(X[:n,0],X[:n,1])\n",
    "plt.show()"
   ]
  },
  {
   "cell_type": "code",
   "execution_count": 5,
   "metadata": {
    "collapsed": true
   },
   "outputs": [],
   "source": [
    "from sklearn.decomposition import PCA, KernelPCA\n",
    "kpca = KernelPCA(kernel=\"poly\",degree=2)\n",
    "X_kpca = kpca.fit_transform(X)\n",
    "\n",
    "pca = PCA(n_components=1)\n",
    "X_pca = pca.fit_transform(X)"
   ]
  },
  {
   "cell_type": "code",
   "execution_count": 6,
   "metadata": {},
   "outputs": [
    {
     "data": {
      "image/png": "[encoded data removed]",
      "text/plain": [
       "<matplotlib.figure.Figure at 0x28879873400>"
      ]
     },
     "metadata": {},
     "output_type": "display_data"
    }
   ],
   "source": [
    "plt.scatter(X_kpca[:,0],X_kpca[:,1])\n",
    "plt.show()"
   ]
  },
  {
   "cell_type": "code",
   "execution_count": 7,
   "metadata": {},
   "outputs": [
    {
     "data": {
      "image/png": "[encoded data removed]",
      "text/plain": [
       "<matplotlib.figure.Figure at 0x2887ac8ed30>"
      ]
     },
     "metadata": {},
     "output_type": "display_data"
    }
   ],
   "source": [
    "plt.scatter(X_kpca[:,0],X_pca[:,0])\n",
    "plt.show()"
   ]
  },
  {
   "cell_type": "markdown",
   "metadata": {},
   "source": [
    "__Exercise 4.__ (50 pts) Below is an import of a reuters data.  I have written a def to process a single file.  Construct a response variable with has three categories, if the topic is 'earn', 'acq', or another category.  Import all of the data and construct a kernel matrix between the documents based on the overlap of words in the body of the document (you can choose the notion of similarity, but try to make it make sense).  Try including into your kernel the overlap between the places.  Use sklearn svm.SVC with this as the precomputed kernel to fit on the data in the TRAIN split and predict on the TEST split.  Plot your ROC and PR curves for predicting 'earn' (versus everything else) and compare several different versions of the kernel."
   ]
  },
  {
   "cell_type": "code",
   "execution_count": 8,
   "metadata": {
    "collapsed": true
   },
   "outputs": [],
   "source": [
    "from lxml import html, etree"
   ]
  },
  {
   "cell_type": "code",
   "execution_count": 9,
   "metadata": {
    "collapsed": true
   },
   "outputs": [],
   "source": [
    "reu = html.parse(\"reuters/reut2-000.sgm\") #You will have to do this for all sgm files here"
   ]
  },
  {
   "cell_type": "code",
   "execution_count": 10,
   "metadata": {},
   "outputs": [
    {
     "name": "stdout",
     "output_type": "stream",
     "text": [
      "showing info https://raw.githubusercontent.com/nltk/nltk_data/gh-pages/index.xml\n"
     ]
    }
   ],
   "source": [
    "import nltk\n",
    "nltk.download()\n",
    "# Download Corpora -> stopwords, Models -> punkt\n",
    "\n",
    "from nltk.corpus import stopwords\n",
    "from nltk.tokenize import word_tokenize"
   ]
  },
  {
   "cell_type": "code",
   "execution_count": 11,
   "metadata": {
    "collapsed": true
   },
   "outputs": [],
   "source": [
    "def parse_reu(reu):\n",
    "    \"\"\"Parses the etree object and returns a list of dictionary of reuters attr\n",
    "    Output: {'topics': the topic of the article, 'places': where it is located, \n",
    "        'split': training/test split, 'body':the text of the article as a set of words with stopwords removed}\n",
    "    \"\"\"\n",
    "    root= reu.getroot()\n",
    "    articles = root.body.getchildren()\n",
    "    stop_words = set(stopwords.words('english'))\n",
    "    reu_pl = []\n",
    "    for a in articles:\n",
    "        reu_parse = {}\n",
    "        if a.attrib['topics'] != 'YES':\n",
    "            next\n",
    "        topics = a.find('topics').findall('d')\n",
    "        if topics:\n",
    "            reu_parse['topics'] = [t.text for t in topics]\n",
    "        else:\n",
    "            reu_parse['topics'] = []\n",
    "        places = a.find('places').findall('d')\n",
    "        if places:\n",
    "            reu_parse['places'] = [t.text for t in places]\n",
    "        reu_parse['split'] = a.attrib['lewissplit']\n",
    "        rtxt = a.find('text')\n",
    "        word_tokens = word_tokenize(rtxt.text_content())\n",
    "        filtered_sentence = set([w.lower() for w in word_tokens if not w in stop_words])\n",
    "        reu_parse['body'] = filtered_sentence\n",
    "        reu_pl.append(reu_parse)\n",
    "    return reu_pl"
   ]
  },
  {
   "cell_type": "code",
   "execution_count": 12,
   "metadata": {
    "collapsed": true
   },
   "outputs": [],
   "source": [
    "reu_pl = parse_reu(reu)"
   ]
  },
  {
   "cell_type": "code",
   "execution_count": 13,
   "metadata": {},
   "outputs": [
    {
     "name": "stdout",
     "output_type": "stream",
     "text": [
      "['cocoa']\n"
     ]
    },
    {
     "data": {
      "text/plain": [
       "'trade dec sold 28 thousand 26 routine selling total come dry end arrivals 27 named 1987/88 salvador 5.81 estimated still feb week weekly 45 destinations 5.93 stage 60 4,400 cake convertible 1986/87 again new although humidity view 0.39 bahia cruzados going argentina said last february available sales currency times uruguay 1.06 4,345 published ports aug/sept 2,325 currently 4,350 old would 1,870 15 lower cumulative 1,780 sept bags 995 improving reuter fit the 6.4 exporters 340 commission u.s. also 4,450 shippers obtaining there hands dificulties oct/dec late making march/april limited booked earlier july showers final made - restored export 1.25 middlemen zone march cocoa 4,340 estimates offer carnival butter recent since early period york june/july 35 6.13 nearby april/may may drought year tonne season areas 785 weeks doubt normal per rose consignment 2,400 ended around certificates almost buyers seems 2,375 . liquor review delivered open included prices throughout 753 hundred practically light 4,480 registered levels smith january 1,875 aug in ends 1,850 quality expected 22 4,415 temporao fob comissaria superior+ mln 350 midday shipment held , continued spot brazilian crop experiencing kilos standing 2.27 2,380 arroba figures processors covertible 2.28 prospects coming went means doubts alleviating 4,351 part 1,750 bean farmers harvesting +bahia reluctant 6.2 with good 1,880 dlrs 155,221 much'"
      ]
     },
     "execution_count": 13,
     "metadata": {},
     "output_type": "execute_result"
    }
   ],
   "source": [
    "print(reu_pl[0]['topics'])\n",
    "\" \".join(reu_pl[0]['body'])"
   ]
  },
  {
   "cell_type": "code",
   "execution_count": 14,
   "metadata": {
    "collapsed": true
   },
   "outputs": [],
   "source": [
    "#read all the data\n",
    "reu_pl = []\n",
    "for i in range(0,22):\n",
    "    n=str(i)\n",
    "    s = n.zfill(3)\n",
    "    reu = html.parse(\"reuters/reut2-\"+s+\".sgm\")\n",
    "    reu_pl.extend(parse_reu(reu))\n",
    "#get rid of the data that labeled as 'NOT-USED'\n",
    "reu_pl = [x for x in reu_pl if not x[\"split\"]=='NOT-USED']"
   ]
  },
  {
   "cell_type": "code",
   "execution_count": 15,
   "metadata": {
    "collapsed": true
   },
   "outputs": [],
   "source": [
    "# Construct a response variable with three categories\n",
    "for i in range(len(reu_pl)):\n",
    "    if \"earn\" in reu_pl[i][\"topics\"]:\n",
    "        reu_pl[i][\"categories\"]=1\n",
    "    elif \"acq\" in reu_pl[i][\"topics\"]:\n",
    "        reu_pl[i][\"categories\"]=2\n",
    "    else: reu_pl[i][\"categories\"]=0\n",
    "response = [i[\"categories\"] for i in reu_pl]"
   ]
  },
  {
   "cell_type": "code",
   "execution_count": 16,
   "metadata": {
    "collapsed": true
   },
   "outputs": [],
   "source": [
    "#this code is from STA141B, get rid of the morphological changes\n",
    "from nltk.corpus import wordnet\n",
    "from textblob import TextBlob\n",
    "\n",
    "def wordnet_pos(tag):\n",
    "    \"\"\"Map a Brown POS tag to a WordNet POS tag.\"\"\"\n",
    "    \n",
    "    table = {\"N\": wordnet.NOUN, \"V\": wordnet.VERB, \"R\": wordnet.ADV, \"J\": wordnet.ADJ}\n",
    "    \n",
    "    # Default to a noun.\n",
    "    return table.get(tag[0], wordnet.NOUN)\n",
    "\n",
    "\n",
    "for i in range(len(reu_pl)):\n",
    "    blob = TextBlob(\" \".join(reu_pl[i][\"body\"]))\n",
    "    tags = [wordnet_pos(x[1]) for x in blob.pos_tags]\n",
    "    reu_pl[i][\"body2\"] = set(x.lemmatize(t) for x, t in zip(blob.words, tags))"
   ]
  },
  {
   "cell_type": "code",
   "execution_count": 17,
   "metadata": {
    "collapsed": true
   },
   "outputs": [],
   "source": [
    "# seperate the training data and the test data.\n",
    "X_train = [x for x in reu_pl if x[\"split\"]==\"TRAIN\"]\n",
    "X_test = [x for x in reu_pl if x[\"split\"]==\"TEST\"]"
   ]
  },
  {
   "cell_type": "code",
   "execution_count": 18,
   "metadata": {
    "collapsed": true,
    "scrolled": true
   },
   "outputs": [],
   "source": [
    "from sklearn.feature_extraction.text import CountVectorizer  \n",
    "\n",
    "words1 = []\n",
    "for i in X_train:\n",
    "    words1.append(\" \".join(i[\"body2\"]))\n",
    "    \n",
    "words2 = []\n",
    "for i in X_test:\n",
    "    words2.append(\" \".join(i[\"body2\"]))\n",
    "\n",
    "#make sure the dictionary of training data and test data is the same one.\n",
    "word = []\n",
    "word.extend(words1)\n",
    "word.extend(words2)\n",
    "\n",
    "vectorizer = CountVectorizer()  \n",
    "A = vectorizer.fit_transform(word)\n",
    "train = A[:len(words1),:]\n",
    "test = A[len(words1):,:]\n",
    "\n",
    "kernel_fit =train@train.T\n",
    "kernel_predict = test@train.T"
   ]
  },
  {
   "cell_type": "code",
   "execution_count": 19,
   "metadata": {
    "collapsed": true,
    "scrolled": true
   },
   "outputs": [],
   "source": [
    "from sklearn import svm\n",
    "from scipy import sparse\n",
    "SVC = svm.SVC(kernel = \"precomputed\",probability = True)\n",
    "SVC.fit(kernel_fit.toarray(),response[:len(X_train)])\n",
    "predict = SVC.predict_proba(kernel_predict.toarray())\n",
    "predict2 = SVC.predict(kernel_predict.toarray())"
   ]
  },
  {
   "cell_type": "code",
   "execution_count": 20,
   "metadata": {},
   "outputs": [
    {
     "data": {
      "text/plain": [
       "array([[3374,  759,  251],\n",
       "       [ 286,  729,   73],\n",
       "       [ 218,   59,  439]], dtype=int64)"
      ]
     },
     "execution_count": 20,
     "metadata": {},
     "output_type": "execute_result"
    }
   ],
   "source": [
    "from sklearn.metrics import confusion_matrix\n",
    "confusion_matrix(response[len(X_train):],predict2)"
   ]
  },
  {
   "cell_type": "code",
   "execution_count": 21,
   "metadata": {},
   "outputs": [
    {
     "data": {
      "image/png": "[encoded data removed]",
      "text/plain": [
       "<matplotlib.figure.Figure at 0x2887ca872e8>"
      ]
     },
     "metadata": {},
     "output_type": "display_data"
    }
   ],
   "source": [
    "from sklearn.metrics import roc_curve\n",
    "true = response[len(X_train):].copy()\n",
    "\n",
    "for i in range(len(true)):\n",
    "    if true[i] == 2:\n",
    "        true[i] = 0\n",
    "fpr, tpr, thresholds = roc_curve(true,predict[:, 1]) \n",
    "plt.plot(fpr, tpr, lw=2) \n",
    "plt.xlabel('False Positive Rate')  \n",
    "plt.ylabel('True Positive Rate')\n",
    "plt.title('ROC curve')  \n",
    "plt.show() "
   ]
  },
  {
   "cell_type": "code",
   "execution_count": 22,
   "metadata": {},
   "outputs": [
    {
     "data": {
      "image/png": "[encoded data removed]",
      "text/plain": [
       "<matplotlib.figure.Figure at 0x288055bcbe0>"
      ]
     },
     "metadata": {},
     "output_type": "display_data"
    }
   ],
   "source": [
    "from sklearn.metrics import precision_recall_curve\n",
    "\n",
    "precision, recall, _ = precision_recall_curve(true,predict[:, 1])\n",
    "plt.plot(recall,precision, lw=2) \n",
    "plt.xlabel('Recall')\n",
    "plt.ylabel('Precision')\n",
    "plt.title('PR curve')  \n",
    "plt.show() "
   ]
  },
  {
   "cell_type": "code",
   "execution_count": 23,
   "metadata": {
    "collapsed": true
   },
   "outputs": [],
   "source": [
    "SVC = svm.SVC(kernel=\"rbf\",probability = True)\n",
    "SVC.fit(train,response[:len(X_train)])\n",
    "predict = SVC.predict_proba(test)"
   ]
  },
  {
   "cell_type": "code",
   "execution_count": 25,
   "metadata": {},
   "outputs": [
    {
     "data": {
      "image/png": "[encoded data removed]",
      "text/plain": [
       "<matplotlib.figure.Figure at 0x288055b8550>"
      ]
     },
     "metadata": {},
     "output_type": "display_data"
    }
   ],
   "source": [
    "fpr, tpr, thresholds = roc_curve(true,predict[:, 1]) \n",
    "plt.plot(fpr, tpr, lw=2) \n",
    "plt.xlabel('False Positive Rate')  \n",
    "plt.ylabel('True Positive Rate')\n",
    "plt.title('ROC curve')  \n",
    "plt.show() "
   ]
  },
  {
   "cell_type": "code",
   "execution_count": 24,
   "metadata": {},
   "outputs": [
    {
     "data": {
      "image/png": "[encoded data removed]",
      "text/plain": [
       "<matplotlib.figure.Figure at 0x2887ace8fd0>"
      ]
     },
     "metadata": {},
     "output_type": "display_data"
    }
   ],
   "source": [
    "precision, recall, _ = precision_recall_curve(true,predict[:, 1])\n",
    "plt.plot(recall,precision, lw=2) \n",
    "plt.xlabel('Recall')\n",
    "plt.ylabel('Precision')\n",
    "plt.title('PR curve')  \n",
    "plt.show() "
   ]
  }
 ],
 "metadata": {
  "kernelspec": {
   "display_name": "Python 3",
   "language": "python",
   "name": "python3"
  },
  "language_info": {
   "codemirror_mode": {
    "name": "ipython",
    "version": 3
   },
   "file_extension": ".py",
   "mimetype": "text/x-python",
   "name": "python",
   "nbconvert_exporter": "python",
   "pygments_lexer": "ipython3",
   "version": "3.6.3"
  }
 },
 "nbformat": 4,
 "nbformat_minor": 2
}
