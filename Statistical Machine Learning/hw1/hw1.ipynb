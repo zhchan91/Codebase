{
 "cells": [
  {
   "cell_type": "markdown",
   "metadata": {},
   "source": [
    "$$\n",
    "Chen Zihao \\space915490404\n",
    "$$"
   ]
  },
  {
   "cell_type": "markdown",
   "metadata": {},
   "source": [
    "# STA 208: Homework 1 (Do not distribute)\n",
    "\n",
    "## Due 4/18/2018 in class and online by 10am\n",
    "\n",
    "__Instructions:__ To make grading easier for the TAs please print out your homework and also submit it on canvas.  The canvas should include all of your code either in this notebook file, or a separate python file that is imported and ran in this notebook.  We should be able to open this notebook and run everything here by running the cells in sequence.  The written portions can be either done in markdown and TeX in new cells or written clearly by hand when you hand it in.\n",
    "\n",
    "- Code should be well organized and documented\n",
    "- All math should be clear and make sense sequentially\n",
    "- When in doubt explain what is going on\n",
    "- You will be graded on correctness of your math, code efficiency and succinctness, and conclusions and modelling decisions"
   ]
  },
  {
   "cell_type": "markdown",
   "metadata": {},
   "source": [
    "__Exercise 1__ (20 pts)\n",
    "\n",
    "Consider the binary classification setting where the training data is $x_i \\in \\mathbb R^p, y_i \\in \\{0,1\\}, i=1,\\ldots,n$ and recall the empirical risk (as a function of the predictor $g : \\mathbb R^p \\to \\{0,1\\}$),\n",
    "$$\n",
    "R_n(g) = \\frac 1n \\sum_{i=1}^n \\ell(y_i, g(x_i)),\n",
    "$$\n",
    "and the true risk is \n",
    "$$\n",
    "R(g) = \\mathbb E \\ell(Y,g(X))\n",
    "$$\n",
    "where $X,Y$ are drawn from their joint distribution $f_{X,Y}(x,y)$.\n",
    "\n",
    "1. Suppose that the loss function is the Hamming loss, $\\ell(y,\\hat y) = 1\\{ y \\ne \\hat y\\}$.  What is the predictor that minimizes the True risk?  (Hint: derive an expression for this based on the joint distribution - you can use expressions involving conditional probabilities.)\n",
    "2. The predictor above is called the Bayes rule.  For the Hamming loss, write an expression for the true risk of the Bayes rule, this is the irreducible error.\n",
    "3. Suppose that we know that the Bayes rule can be written in the form, \n",
    "$$\n",
    "h(x) = 1\\{ x_j > 0 \\}, \n",
    "$$\n",
    "for some $j = 1,\\ldots,p$, but we don't know which one.  Now using the empirical risk, what is a reasonable classification algorithm (Hint: you can think of finding a good classifier as a problem of finding $j$).  Describe the fit and predict methods. \n",
    "4. Suppose that I told you that for any fixed $g$ the following probability bound holds (from Hoeffding's inequality)\n",
    "$$\n",
    "\\mathbb P \\left\\{ |R_n(g) - R(g)| > t \\right\\} \\le 2 \\exp \\left( - 2 n t^2 \\right).\n",
    "$$\n",
    "How many samples would I need to get a classifier $\\hat g$, from the previous question, such that \n",
    "$$\n",
    "\\mathbb P \\left\\{ R(\\hat g) < R(h) + 0.1 \\right\\} \\ge 0.95.\n",
    "$$\n",
    "(Hint: use the union bound)"
   ]
  },
  {
   "cell_type": "markdown",
   "metadata": {},
   "source": [
    "1.\n",
    "$$\n",
    "\\begin{split}\n",
    "R(g)&=\\sum_{y=0}^1f_{Y|X}(y|x)\\ell(y,\\hat y)\\\\\n",
    "\\hat y &= \\mathop{\\arg\\min}_{\\hat y}\\sum_{y=0}^1f_{Y|X}(y|x)\\ell(y,\\hat y)\\\\\n",
    "\\end{split}\n",
    "$$\n",
    "As the Hamming loss $\\ell(y,\\hat y)=1\\{y\\ne \\hat y\\}=(y-\\hat y)^2$ as long as $\\hat y\\in \\{0,1\\}$ then we have\n",
    "$$\n",
    "\\hat y = \\mathop{\\arg\\min}_{\\hat y}\\sum_{y=0}^1f_{Y|X}(y|x)(y-\\hat y)^2\\\\\n",
    "$$\n",
    "take the first derivative and set it to zero\n",
    "$$\n",
    "\\begin{split}\n",
    "0&=2\\sum_{y=0}^1f_{Y|X}(y|x)(y-\\hat y)\\\\\n",
    "y^*&=E(y|x)=P(y=1|x)\n",
    "\\end{split}\n",
    "$$\n",
    "\n",
    "$y^*$ is a regressor for y and it is the conditional probability of y=1 given x.\n",
    "\n",
    "so that the classifier is that \n",
    "$$\n",
    "\\hat y = 1\\{P(y=1|x)>0.5\\}\n",
    "$$"
   ]
  },
  {
   "cell_type": "markdown",
   "metadata": {},
   "source": [
    "2.\n",
    "\n",
    "$$\n",
    "\\begin{split}\n",
    "R(\\hat y)&=\\sum_{y=0}^1f_{Y|X}(y|x)\\ell(y,\\hat y)\\\\\n",
    "&=\\sum_{y=0}^1f_{Y|X}(y|x)|y-1\\{P(y=1|x)>0.5\\}|dy\\\\\n",
    "&=P(y=0|x)\\times 1\\{P(y=1|x)>0.5\\}+P(y=1|x)\\times (1-1\\{P(y=1|x)>0.5\\})\\\\\n",
    "&=P(y=0|x)\\times 1\\{P(y=1|x)>0.5\\}+P(y=1|x)\\times 1\\{P(y=1|x)<0.5\\}\\\\\n",
    "\\end{split}\n",
    "$$\n",
    "\n",
    "This is also the total probability of misclassification."
   ]
  },
  {
   "cell_type": "markdown",
   "metadata": {},
   "source": [
    "3.\n",
    "\n",
    "The goal is to minimize the empirical risk.\n",
    "$$\n",
    "\\min_j R_n(g) = \\min_j \\frac 1n \\sum_{i=1}^n \\ell(y_i, 1\\{ x_{ij} > 0 \\})\n",
    "$$\n",
    "\n",
    "where $x_{ij}$ is value of the jth variables of the ith object.\n",
    "\n",
    "All we need is to calulate the empirical risk as shown above and find the minimum, then we can get the j. \n",
    "\n",
    "For the predict method, once we determined which j we use, $\\hat y_i =1\\{x_{ij}>0\\}$ ."
   ]
  },
  {
   "cell_type": "markdown",
   "metadata": {},
   "source": [
    "4.\n",
    "\n",
    " (from Hoeffding's inequality)\n",
    " \n",
    "$$\n",
    "\\begin{split}\n",
    "\\mathbb P \\left\\{ |R_n(g) - R(g)| > t \\right\\} &\\le 2 \\exp \\left( - 2 n t^2 \\right).\\\\\n",
    "\\mathbb P \\left\\{ R_n(g) - R(g) > t \\right\\} +\\mathbb P \\left\\{ R_n(g) - R(g) < -t \\right\\} &\\le 2 \\exp \\left( - 2 n t^2 \\right)\\\\\n",
    "\\mathbb P \\left\\{ R_n(g) - R(g) < -t \\right\\} &< 2 \\exp \\left( - 2 n t^2 \\right)\\\\\n",
    "\\end{split}\n",
    "$$\n",
    "\n",
    "in order to get \n",
    "\n",
    "$$\n",
    "\\begin{split}\n",
    "\\mathbb P \\left\\{ R(\\hat g) < R(h) + 0.1 \\right\\} &\\ge 0.95\\\\\n",
    "\\mathbb P \\left\\{ R(h) - R_n(\\hat g)+ R_n(\\hat g) -  R(\\hat g) > -0.1 \\right\\} &\\ge 0.95\\\\\n",
    "\\mathbb P \\left\\{ R(h) - R_n(\\hat g)< -0.05 \\right\\} +\\mathbb P \\left\\{  R_n(\\hat g) -  R(\\hat g) < -0.05 \\right\\}&<\\mathbb P \\left\\{ R(h) - R_n(g)+ R_n(g) -  R(\\hat g) < -0.1 \\right\\} \\le 0.05\\\\\n",
    "\\mathbb P \\left\\{  R_n(\\hat g) -  R(\\hat g) < -0.05 \\right\\}&< 0.05\\\\\n",
    "\\end{split}\n",
    "$$\n",
    "\n",
    "Compare with the Hoeffding's inequality, let $2\\exp \\left( - 2 n t^2 \\right) = 0.05$ where t = 0.05\n",
    "\n",
    "then $n = \\frac {-\\log 0.025}{2t^2}=\\frac {-\\log 0.025}{2*0.05^2}=737.78$\n",
    "\n",
    "We need n = 738 to achieve the inequlity."
   ]
  },
  {
   "cell_type": "code",
   "execution_count": 1,
   "metadata": {},
   "outputs": [
    {
     "data": {
      "text/plain": [
       "737.7758908227871"
      ]
     },
     "execution_count": 1,
     "metadata": {},
     "output_type": "execute_result"
    }
   ],
   "source": [
    "import math\n",
    "-math.log(0.025)/(2*(0.05**2))"
   ]
  },
  {
   "cell_type": "markdown",
   "metadata": {},
   "source": [
    "__Exercise 2__ (20 pts)\n",
    "\n",
    "Consider the regression setting in which $x_i \\in \\mathbb R^p$ and $y_i \\in \\mathbb R$, for $i=1,\\ldots,n$ and $p < n$.\n",
    "\n",
    "1. For a given regressor, let $\\hat y_i$ be prediction given $x_i$, and $\\hat y$ be the vector form.  Show that both linear regression and k-nearest neighbors can be written in the form\n",
    "$$\n",
    "\\hat y = H y,\n",
    "$$\n",
    "where $H$ is dependent on $X$ (the matrix of where each row is $x_i$).  Give a clear expression for $H$.\n",
    "2. By modifying the matrix $H$, how can we ensure that a given sample is not used as a k nearest neighbor.  Derive an expression for the leave-one-out cross validated square error based on this.\n",
    "3. For linear regression, let $X = U D V^\\top$ be the singular value decomposition where $U$ is $n \\times p$, and $V, D$ is $p \\times p$ ($D$ is diagonal). Derive an expression for the OLS coefficients $\\beta = A b$ such that $A$ is $p \\times p$ and depends on $V$ and $D$, and $b$ is a $p$ vector and does not depend on $D$.  Describe a fit method that precomputes these quantities separately, and describe a predict method.\n",
    "4. Consider a regressor that performs OLS using the SVD above, but every instance of D will only use the largest $r$ values on the diagonal (all others are set to 0).  Call this new matrix $D_r$ ($r < p$).  Given that you have computed $b$ already, how could you make a method `change_rank` that recomputes $A$ with $D_r$ instead of $D$?  What is its computational complexity (it should not depend on n)?"
   ]
  },
  {
   "cell_type": "markdown",
   "metadata": {},
   "source": [
    "1.\n",
    "\n",
    "For linear regression\n",
    "\n",
    "$H=X(X^TX)^{-1}X^T$\n",
    "\n",
    "For KNN\n",
    "\n",
    "The entries of H is either 0 or 1/k. $H_{ij}=1/k$ if the $x_j$ is among the k-nearest neighbors of $x_i$"
   ]
  },
  {
   "cell_type": "markdown",
   "metadata": {},
   "source": [
    "2.\n",
    "\n",
    "If we want to know whether the ith sample is used for the k nearest neighbor, just check the ith collumn of H, if the ith collumn is all zero, then the ith sample is not used in the k nearest neighbor. \n",
    "\n",
    "let $H_k$ is the H matrix for k, then $\\hat y^*=\\frac {k+1} k(H_{k+1}-\\frac 1 {k+1}I)y$ is the leave-one-out cross validated predictor. so that the square error is that \n",
    "$$\n",
    "||y - \\hat y^*||^2_2 = ||y-\\frac {k+1} k(H_{k+1}-\\frac 1 {k+1}I)y||^2_2=||(\\frac {k+1} kI-\\frac {k+1} kH_{k+1})y||^2_2=||\\frac {k+1} k(I-H_{k+1})y||^2_2\n",
    "$$\n",
    "    "
   ]
  },
  {
   "cell_type": "markdown",
   "metadata": {},
   "source": [
    "3.\n",
    "\n",
    "$$\n",
    "\\hat \\beta = (X^\\top X)^{-1}X^\\top Y= (VD^\\top U^\\top  U D V^\\top)^{-1}(U D V^\\top)^\\top Y = VD^{-2}V^\\top VD^\\top U^\\top Y=VD^{-1} U^\\top Y\n",
    "$$\n",
    "\n",
    "let $A=VD^{-1}$ and $b=U^\\top Y$ and we will get $\\beta = Ab$"
   ]
  },
  {
   "cell_type": "code",
   "execution_count": 2,
   "metadata": {
    "collapsed": true
   },
   "outputs": [],
   "source": [
    "def fit(X,y):\n",
    "    \"\"\"\n",
    "    : Computes beta using singular value regression\n",
    "    \"\"\"\n",
    "    n,p = X.shape\n",
    "    U,D,VT = svd(X)\n",
    "    U = U[:,:p]\n",
    "    D1 = np.diag(1/self.D)\n",
    "    A = VT.T.dot(D1)\n",
    "    b = U.T.dot(y)\n",
    "    beta = A.dot(b)\n",
    "    return beta\n",
    "\n",
    "def predict(X_test,beta):\n",
    "    \"\"\"\n",
    "    : Outputs the predicted y given the predictors X_test and beta\n",
    "    \"\"\"\n",
    "    return X_test.dot(beta)"
   ]
  },
  {
   "cell_type": "markdown",
   "metadata": {},
   "source": [
    "4.\n",
    "\n",
    "$A_r=V_rD_r^{-1}$ where $V_r$ is a $p\\times r$ matrix and it is a matrix of the first r columns of V, $D_r$ is a $r\\times r$ matrix defined by the question.\n",
    "\n",
    "$\\beta = A_rb_r$ where $b_r$ is a vector of the first r elements in vector b\n",
    "\n",
    "the computational complexity of $A_r$ is O($pr^3$)\n",
    "\n",
    "the method is shown in the Exercise 3 below in the 'class' cell change_rank function."
   ]
  },
  {
   "cell_type": "markdown",
   "metadata": {},
   "source": [
    "__Exercise 3__ (30 pts)\n",
    "\n",
    "We call the method that zeros out all but $r$ singular values in OLS, singular value regression.  Implement the singular value regressor as a sklearn style class below.  Test it by simulating the training and test data from the `gen_LR_data` function below and calculate the average square error on the test set.  Do this for each choice of `r` in the fit function."
   ]
  },
  {
   "cell_type": "code",
   "execution_count": 3,
   "metadata": {
    "collapsed": true
   },
   "outputs": [],
   "source": [
    "import numpy as np\n",
    "from scipy.linalg import svd"
   ]
  },
  {
   "cell_type": "code",
   "execution_count": 4,
   "metadata": {
    "collapsed": true
   },
   "outputs": [],
   "source": [
    "class SingularValueRegressor:\n",
    "    \"\"\"\n",
    "    : A regression object that uses the SVD to fit and predict\n",
    "    : Init: specify rank r\n",
    "    : .fit: solve the SVD of X and precompute beta\n",
    "    : .predict: Return y hat for X_test\n",
    "    \"\"\"\n",
    "    \n",
    "    def __init__(self,r):\n",
    "        \"\"\"\n",
    "        : Store the rank\n",
    "        \"\"\"\n",
    "        self.r = r\n",
    "        \n",
    "    def fit(self,X,y):\n",
    "        \"\"\"\n",
    "        : Computes and stores the SVD (use scipy.linalg.svd)\n",
    "        : Computes beta for rank r singular value regression\n",
    "        \"\"\"\n",
    "        self.n,self.p = X.shape\n",
    "        self.U,self.D,self.VT = svd(X)\n",
    "        \n",
    "        self.U = self.U[:,:self.p]\n",
    "        self.b = self.U.T.dot(y)\n",
    "        \n",
    "        D1 = np.diag(1/self.D)[:self.r,:self.r]\n",
    "        A = self.VT.T[:,:self.r].dot(D1)\n",
    "        \n",
    "        self.beta = A.dot(self.b[:self.r])\n",
    "        return self.beta\n",
    "        \n",
    "    def predict(self,X_test):\n",
    "        \"\"\"\n",
    "        : Outputs the predicted y given the predictors X_test\n",
    "        \"\"\"\n",
    "        return X_test.dot(self.beta)\n",
    "        \n",
    "    def change_rank(self,r):\n",
    "        \"\"\"\n",
    "        : Assumes that the SVD has been computed and uses it to change the rank; after\n",
    "        : running the new regressor object should be as if we fit with the new rank r\n",
    "        \"\"\"\n",
    "        self.r = r\n",
    "        D1 = np.diag(1/self.D)[:self.r,:self.r]\n",
    "        A = self.VT.T[:,:self.r].dot(D1)\n",
    "        self.beta = A.dot(self.b[:self.r])\n",
    "        return self.beta"
   ]
  },
  {
   "cell_type": "code",
   "execution_count": 5,
   "metadata": {
    "collapsed": true
   },
   "outputs": [],
   "source": [
    "def gen_LR_data(r = 10, p = 20, n = 100):\n",
    "    \"\"\"\n",
    "    : generate data from an approx low rank regression model\n",
    "    \"\"\"\n",
    "    alpha = np.random.chisquare(1,size = (p,r)) #X coefficients\n",
    "    Z = np.random.normal(size=(n,r)) #X covariates\n",
    "    beta = np.random.normal(size = r) #reg covs\n",
    "    mu = Z @ beta #hidden mean\n",
    "    Xmean = Z @ alpha.T #random transformation of Z\n",
    "    X = Xmean + np.random.normal(0,.5,size=(n,p)) #add noise - not exactly low rank\n",
    "    X_test = Xmean + np.random.normal(0,.5,size=(n,p))\n",
    "    y = mu + np.random.normal(0,1,size=(n))\n",
    "    y_test = mu + np.random.normal(0,1,size=(n))\n",
    "    return (X,y,X_test,y_test)"
   ]
  },
  {
   "cell_type": "code",
   "execution_count": 6,
   "metadata": {
    "collapsed": true
   },
   "outputs": [],
   "source": [
    "X,y,X_test,y_test = gen_LR_data()"
   ]
  },
  {
   "cell_type": "code",
   "execution_count": 7,
   "metadata": {},
   "outputs": [
    {
     "data": {
      "text/html": [
       "<div>\n",
       "<style>\n",
       "    .dataframe thead tr:only-child th {\n",
       "        text-align: right;\n",
       "    }\n",
       "\n",
       "    .dataframe thead th {\n",
       "        text-align: left;\n",
       "    }\n",
       "\n",
       "    .dataframe tbody tr th {\n",
       "        vertical-align: top;\n",
       "    }\n",
       "</style>\n",
       "<table border=\"1\" class=\"dataframe\">\n",
       "  <thead>\n",
       "    <tr style=\"text-align: right;\">\n",
       "      <th></th>\n",
       "      <th>r</th>\n",
       "      <th>average square error</th>\n",
       "    </tr>\n",
       "  </thead>\n",
       "  <tbody>\n",
       "    <tr>\n",
       "      <th>0</th>\n",
       "      <td>1.0</td>\n",
       "      <td>954.749412</td>\n",
       "    </tr>\n",
       "    <tr>\n",
       "      <th>1</th>\n",
       "      <td>2.0</td>\n",
       "      <td>847.364155</td>\n",
       "    </tr>\n",
       "    <tr>\n",
       "      <th>2</th>\n",
       "      <td>3.0</td>\n",
       "      <td>742.872949</td>\n",
       "    </tr>\n",
       "    <tr>\n",
       "      <th>3</th>\n",
       "      <td>4.0</td>\n",
       "      <td>643.905625</td>\n",
       "    </tr>\n",
       "    <tr>\n",
       "      <th>4</th>\n",
       "      <td>5.0</td>\n",
       "      <td>546.042764</td>\n",
       "    </tr>\n",
       "    <tr>\n",
       "      <th>5</th>\n",
       "      <td>6.0</td>\n",
       "      <td>454.114549</td>\n",
       "    </tr>\n",
       "    <tr>\n",
       "      <th>6</th>\n",
       "      <td>7.0</td>\n",
       "      <td>366.711013</td>\n",
       "    </tr>\n",
       "    <tr>\n",
       "      <th>7</th>\n",
       "      <td>8.0</td>\n",
       "      <td>275.403467</td>\n",
       "    </tr>\n",
       "    <tr>\n",
       "      <th>8</th>\n",
       "      <td>9.0</td>\n",
       "      <td>204.715437</td>\n",
       "    </tr>\n",
       "    <tr>\n",
       "      <th>9</th>\n",
       "      <td>10.0</td>\n",
       "      <td>131.004217</td>\n",
       "    </tr>\n",
       "    <tr>\n",
       "      <th>10</th>\n",
       "      <td>11.0</td>\n",
       "      <td>132.050025</td>\n",
       "    </tr>\n",
       "    <tr>\n",
       "      <th>11</th>\n",
       "      <td>12.0</td>\n",
       "      <td>133.206504</td>\n",
       "    </tr>\n",
       "    <tr>\n",
       "      <th>12</th>\n",
       "      <td>13.0</td>\n",
       "      <td>134.295075</td>\n",
       "    </tr>\n",
       "    <tr>\n",
       "      <th>13</th>\n",
       "      <td>14.0</td>\n",
       "      <td>135.627547</td>\n",
       "    </tr>\n",
       "    <tr>\n",
       "      <th>14</th>\n",
       "      <td>15.0</td>\n",
       "      <td>137.207183</td>\n",
       "    </tr>\n",
       "    <tr>\n",
       "      <th>15</th>\n",
       "      <td>16.0</td>\n",
       "      <td>138.637029</td>\n",
       "    </tr>\n",
       "    <tr>\n",
       "      <th>16</th>\n",
       "      <td>17.0</td>\n",
       "      <td>140.771618</td>\n",
       "    </tr>\n",
       "    <tr>\n",
       "      <th>17</th>\n",
       "      <td>18.0</td>\n",
       "      <td>142.944600</td>\n",
       "    </tr>\n",
       "    <tr>\n",
       "      <th>18</th>\n",
       "      <td>19.0</td>\n",
       "      <td>145.272647</td>\n",
       "    </tr>\n",
       "    <tr>\n",
       "      <th>19</th>\n",
       "      <td>20.0</td>\n",
       "      <td>147.989960</td>\n",
       "    </tr>\n",
       "  </tbody>\n",
       "</table>\n",
       "</div>"
      ],
      "text/plain": [
       "       r  average square error\n",
       "0    1.0            954.749412\n",
       "1    2.0            847.364155\n",
       "2    3.0            742.872949\n",
       "3    4.0            643.905625\n",
       "4    5.0            546.042764\n",
       "5    6.0            454.114549\n",
       "6    7.0            366.711013\n",
       "7    8.0            275.403467\n",
       "8    9.0            204.715437\n",
       "9   10.0            131.004217\n",
       "10  11.0            132.050025\n",
       "11  12.0            133.206504\n",
       "12  13.0            134.295075\n",
       "13  14.0            135.627547\n",
       "14  15.0            137.207183\n",
       "15  16.0            138.637029\n",
       "16  17.0            140.771618\n",
       "17  18.0            142.944600\n",
       "18  19.0            145.272647\n",
       "19  20.0            147.989960"
      ]
     },
     "execution_count": 7,
     "metadata": {},
     "output_type": "execute_result"
    }
   ],
   "source": [
    "import pandas as pd\n",
    "error = np.zeros([20,1000])\n",
    "for i in range(1000):\n",
    "        X,y,X_test,y_test = gen_LR_data()\n",
    "        model = SingularValueRegressor(1)\n",
    "        model.fit(X,y)\n",
    "        y_hat = model.predict(X_test)\n",
    "        error[0,i] = sum((y_hat-y_test)**2)\n",
    "        for r in range(2,21):\n",
    "                model.change_rank(r)\n",
    "                y_hat = model.predict(X_test)\n",
    "                error[r-1,i]= sum((y_hat-y_test)**2)\n",
    "\n",
    "#show the error in a much more pretty way                \n",
    "Error = pd.DataFrame([range(1,21),np.mean(error,axis=1)]).T\n",
    "Error.columns = [\"r\",\"average square error\"]\n",
    "Error"
   ]
  },
  {
   "cell_type": "code",
   "execution_count": 8,
   "metadata": {},
   "outputs": [
    {
     "data": {
      "image/png": "[encoded data removed]",
      "text/plain": [
       "<matplotlib.figure.Figure at 0x24e7451d198>"
      ]
     },
     "metadata": {},
     "output_type": "display_data"
    }
   ],
   "source": [
    "import matplotlib.pyplot as plt\n",
    "import seaborn as sns\n",
    "sns.pointplot(x=\"r\",y=\"average square error\",data=Error.iloc[4:,:])\n",
    "plt.show()"
   ]
  },
  {
   "cell_type": "markdown",
   "metadata": {},
   "source": [
    "__Exercise 4__ (30 pts)\n",
    "\n",
    "The dataset in the hw1 directory has a Y variable, 7 predictor variables (X1 - X7).  Using sklearn and the class that you constructed above, compare ridge regression, OLS, kNN, and SVRegression.  Compare and tune the methods using appropriate cross validation.  Comment on the tuning of each parameter in ridge, kNN, and SVRegression in markdown.  Be sure to standardize the X variables first and decide how to deal with NAs.  Feel free to use the LOO method from lab 1."
   ]
  },
  {
   "cell_type": "code",
   "execution_count": 9,
   "metadata": {
    "collapsed": true
   },
   "outputs": [],
   "source": [
    "import pandas as pd"
   ]
  },
  {
   "cell_type": "code",
   "execution_count": 10,
   "metadata": {},
   "outputs": [
    {
     "data": {
      "text/html": [
       "<div>\n",
       "<style>\n",
       "    .dataframe thead tr:only-child th {\n",
       "        text-align: right;\n",
       "    }\n",
       "\n",
       "    .dataframe thead th {\n",
       "        text-align: left;\n",
       "    }\n",
       "\n",
       "    .dataframe tbody tr th {\n",
       "        vertical-align: top;\n",
       "    }\n",
       "</style>\n",
       "<table border=\"1\" class=\"dataframe\">\n",
       "  <thead>\n",
       "    <tr style=\"text-align: right;\">\n",
       "      <th></th>\n",
       "      <th>Y</th>\n",
       "      <th>X1</th>\n",
       "      <th>X2</th>\n",
       "      <th>X3</th>\n",
       "      <th>X4</th>\n",
       "      <th>X5</th>\n",
       "      <th>X6</th>\n",
       "      <th>X7</th>\n",
       "    </tr>\n",
       "  </thead>\n",
       "  <tbody>\n",
       "    <tr>\n",
       "      <th>0</th>\n",
       "      <td>18.0</td>\n",
       "      <td>8.0</td>\n",
       "      <td>307.0</td>\n",
       "      <td>130.0</td>\n",
       "      <td>3504.0</td>\n",
       "      <td>12.0</td>\n",
       "      <td>70.0</td>\n",
       "      <td>1.0</td>\n",
       "    </tr>\n",
       "    <tr>\n",
       "      <th>1</th>\n",
       "      <td>15.0</td>\n",
       "      <td>8.0</td>\n",
       "      <td>350.0</td>\n",
       "      <td>165.0</td>\n",
       "      <td>3693.0</td>\n",
       "      <td>11.5</td>\n",
       "      <td>70.0</td>\n",
       "      <td>1.0</td>\n",
       "    </tr>\n",
       "    <tr>\n",
       "      <th>2</th>\n",
       "      <td>18.0</td>\n",
       "      <td>8.0</td>\n",
       "      <td>318.0</td>\n",
       "      <td>150.0</td>\n",
       "      <td>3436.0</td>\n",
       "      <td>11.0</td>\n",
       "      <td>70.0</td>\n",
       "      <td>1.0</td>\n",
       "    </tr>\n",
       "    <tr>\n",
       "      <th>3</th>\n",
       "      <td>16.0</td>\n",
       "      <td>8.0</td>\n",
       "      <td>304.0</td>\n",
       "      <td>150.0</td>\n",
       "      <td>3433.0</td>\n",
       "      <td>12.0</td>\n",
       "      <td>70.0</td>\n",
       "      <td>1.0</td>\n",
       "    </tr>\n",
       "    <tr>\n",
       "      <th>4</th>\n",
       "      <td>17.0</td>\n",
       "      <td>8.0</td>\n",
       "      <td>302.0</td>\n",
       "      <td>140.0</td>\n",
       "      <td>3449.0</td>\n",
       "      <td>10.5</td>\n",
       "      <td>70.0</td>\n",
       "      <td>1.0</td>\n",
       "    </tr>\n",
       "  </tbody>\n",
       "</table>\n",
       "</div>"
      ],
      "text/plain": [
       "      Y   X1     X2     X3      X4    X5    X6   X7\n",
       "0  18.0  8.0  307.0  130.0  3504.0  12.0  70.0  1.0\n",
       "1  15.0  8.0  350.0  165.0  3693.0  11.5  70.0  1.0\n",
       "2  18.0  8.0  318.0  150.0  3436.0  11.0  70.0  1.0\n",
       "3  16.0  8.0  304.0  150.0  3433.0  12.0  70.0  1.0\n",
       "4  17.0  8.0  302.0  140.0  3449.0  10.5  70.0  1.0"
      ]
     },
     "execution_count": 10,
     "metadata": {},
     "output_type": "execute_result"
    }
   ],
   "source": [
    "data_mat = pd.read_csv('hw1_data.csv')\n",
    "data_mat.head()"
   ]
  },
  {
   "cell_type": "code",
   "execution_count": 11,
   "metadata": {},
   "outputs": [
    {
     "data": {
      "text/html": [
       "<div>\n",
       "<style>\n",
       "    .dataframe thead tr:only-child th {\n",
       "        text-align: right;\n",
       "    }\n",
       "\n",
       "    .dataframe thead th {\n",
       "        text-align: left;\n",
       "    }\n",
       "\n",
       "    .dataframe tbody tr th {\n",
       "        vertical-align: top;\n",
       "    }\n",
       "</style>\n",
       "<table border=\"1\" class=\"dataframe\">\n",
       "  <thead>\n",
       "    <tr style=\"text-align: right;\">\n",
       "      <th></th>\n",
       "      <th>Y</th>\n",
       "      <th>X1</th>\n",
       "      <th>X2</th>\n",
       "      <th>X3</th>\n",
       "      <th>X4</th>\n",
       "      <th>X5</th>\n",
       "      <th>X6</th>\n",
       "      <th>X7</th>\n",
       "    </tr>\n",
       "  </thead>\n",
       "  <tbody>\n",
       "    <tr>\n",
       "      <th>count</th>\n",
       "      <td>398.000000</td>\n",
       "      <td>398.000000</td>\n",
       "      <td>398.000000</td>\n",
       "      <td>392.000000</td>\n",
       "      <td>398.000000</td>\n",
       "      <td>398.000000</td>\n",
       "      <td>398.000000</td>\n",
       "      <td>398.000000</td>\n",
       "    </tr>\n",
       "    <tr>\n",
       "      <th>mean</th>\n",
       "      <td>23.514573</td>\n",
       "      <td>5.454774</td>\n",
       "      <td>193.425879</td>\n",
       "      <td>104.469388</td>\n",
       "      <td>2970.424623</td>\n",
       "      <td>15.568090</td>\n",
       "      <td>76.010050</td>\n",
       "      <td>1.572864</td>\n",
       "    </tr>\n",
       "    <tr>\n",
       "      <th>std</th>\n",
       "      <td>7.815984</td>\n",
       "      <td>1.701004</td>\n",
       "      <td>104.269838</td>\n",
       "      <td>38.491160</td>\n",
       "      <td>846.841774</td>\n",
       "      <td>2.757689</td>\n",
       "      <td>3.697627</td>\n",
       "      <td>0.802055</td>\n",
       "    </tr>\n",
       "    <tr>\n",
       "      <th>min</th>\n",
       "      <td>9.000000</td>\n",
       "      <td>3.000000</td>\n",
       "      <td>68.000000</td>\n",
       "      <td>46.000000</td>\n",
       "      <td>1613.000000</td>\n",
       "      <td>8.000000</td>\n",
       "      <td>70.000000</td>\n",
       "      <td>1.000000</td>\n",
       "    </tr>\n",
       "    <tr>\n",
       "      <th>25%</th>\n",
       "      <td>17.500000</td>\n",
       "      <td>4.000000</td>\n",
       "      <td>104.250000</td>\n",
       "      <td>75.000000</td>\n",
       "      <td>2223.750000</td>\n",
       "      <td>13.825000</td>\n",
       "      <td>73.000000</td>\n",
       "      <td>1.000000</td>\n",
       "    </tr>\n",
       "    <tr>\n",
       "      <th>50%</th>\n",
       "      <td>23.000000</td>\n",
       "      <td>4.000000</td>\n",
       "      <td>148.500000</td>\n",
       "      <td>93.500000</td>\n",
       "      <td>2803.500000</td>\n",
       "      <td>15.500000</td>\n",
       "      <td>76.000000</td>\n",
       "      <td>1.000000</td>\n",
       "    </tr>\n",
       "    <tr>\n",
       "      <th>75%</th>\n",
       "      <td>29.000000</td>\n",
       "      <td>8.000000</td>\n",
       "      <td>262.000000</td>\n",
       "      <td>126.000000</td>\n",
       "      <td>3608.000000</td>\n",
       "      <td>17.175000</td>\n",
       "      <td>79.000000</td>\n",
       "      <td>2.000000</td>\n",
       "    </tr>\n",
       "    <tr>\n",
       "      <th>max</th>\n",
       "      <td>46.600000</td>\n",
       "      <td>8.000000</td>\n",
       "      <td>455.000000</td>\n",
       "      <td>230.000000</td>\n",
       "      <td>5140.000000</td>\n",
       "      <td>24.800000</td>\n",
       "      <td>82.000000</td>\n",
       "      <td>3.000000</td>\n",
       "    </tr>\n",
       "  </tbody>\n",
       "</table>\n",
       "</div>"
      ],
      "text/plain": [
       "                Y          X1          X2          X3           X4  \\\n",
       "count  398.000000  398.000000  398.000000  392.000000   398.000000   \n",
       "mean    23.514573    5.454774  193.425879  104.469388  2970.424623   \n",
       "std      7.815984    1.701004  104.269838   38.491160   846.841774   \n",
       "min      9.000000    3.000000   68.000000   46.000000  1613.000000   \n",
       "25%     17.500000    4.000000  104.250000   75.000000  2223.750000   \n",
       "50%     23.000000    4.000000  148.500000   93.500000  2803.500000   \n",
       "75%     29.000000    8.000000  262.000000  126.000000  3608.000000   \n",
       "max     46.600000    8.000000  455.000000  230.000000  5140.000000   \n",
       "\n",
       "               X5          X6          X7  \n",
       "count  398.000000  398.000000  398.000000  \n",
       "mean    15.568090   76.010050    1.572864  \n",
       "std      2.757689    3.697627    0.802055  \n",
       "min      8.000000   70.000000    1.000000  \n",
       "25%     13.825000   73.000000    1.000000  \n",
       "50%     15.500000   76.000000    1.000000  \n",
       "75%     17.175000   79.000000    2.000000  \n",
       "max     24.800000   82.000000    3.000000  "
      ]
     },
     "execution_count": 11,
     "metadata": {},
     "output_type": "execute_result"
    }
   ],
   "source": [
    "data_mat.describe()"
   ]
  },
  {
   "cell_type": "markdown",
   "metadata": {},
   "source": [
    "the X7 seems to be a catagories variable."
   ]
  },
  {
   "cell_type": "code",
   "execution_count": 12,
   "metadata": {},
   "outputs": [
    {
     "data": {
      "text/plain": [
       "Y     False\n",
       "X1    False\n",
       "X2    False\n",
       "X3     True\n",
       "X4    False\n",
       "X5    False\n",
       "X6    False\n",
       "X7    False\n",
       "dtype: bool"
      ]
     },
     "execution_count": 12,
     "metadata": {},
     "output_type": "execute_result"
    }
   ],
   "source": [
    "data_mat.isnull().any()"
   ]
  },
  {
   "cell_type": "markdown",
   "metadata": {},
   "source": [
    "As shown above the X3 variables have some missing data."
   ]
  },
  {
   "cell_type": "code",
   "execution_count": 13,
   "metadata": {
    "collapsed": true
   },
   "outputs": [],
   "source": [
    "df = data_mat.copy()#in case we did something wrong\n",
    "\n",
    "#use the collumn mean to replace the missing value in the data.\n",
    "df = df.fillna(df.mean())\n",
    "\n",
    "#standardize the X variables (X1 to X6)\n",
    "df_new = df.iloc[:,1:-1].apply(lambda x: (x-np.mean(x))/np.std(x,ddof=1))\n",
    "\n",
    "# get the dummy variables for X7\n",
    "dummies = pd.get_dummies(df['X7'])\n",
    "\n",
    "y = np.array(df.Y)\n",
    "X = np.array(pd.concat([df_new,dummies],axis=1))"
   ]
  },
  {
   "cell_type": "code",
   "execution_count": 14,
   "metadata": {
    "collapsed": true
   },
   "outputs": [],
   "source": [
    "from sklearn.model_selection import LeaveOneOut\n",
    "from sklearn import linear_model, neighbors\n",
    "from sklearn.linear_model import LinearRegression, Ridge, RidgeCV, Lasso, LassoCV"
   ]
  },
  {
   "cell_type": "code",
   "execution_count": 15,
   "metadata": {
    "collapsed": true
   },
   "outputs": [],
   "source": [
    "# copy the loo_risk from lab1\n",
    "def loo_risk(X,y,regmod):\n",
    "    \"\"\"\n",
    "    Construct the leave-one-out square error risk for a regression model\n",
    "    \n",
    "    Input: design matrix, X, response vector, y, a regression model, regmod\n",
    "    Output: scalar LOO risk\n",
    "    \"\"\"\n",
    "    loo = LeaveOneOut()\n",
    "    loo_losses = []\n",
    "    for train_index, test_index in loo.split(X):\n",
    "        X_train, X_test = X[train_index], X[test_index]\n",
    "        y_train, y_test = y[train_index], y[test_index]\n",
    "        regmod.fit(X_train,y_train)\n",
    "        y_hat = regmod.predict(X_test)\n",
    "        loss = np.sum((y_hat - y_test)**2)\n",
    "        loo_losses.append(loss)\n",
    "    return np.mean(loo_losses)"
   ]
  },
  {
   "cell_type": "markdown",
   "metadata": {},
   "source": [
    "Compare ridge regression, OLS, kNN, and SVRegression. Compare and tune the methods using appropriate cross validation. Comment on the tuning of each parameter in ridge, kNN, and SVRegression in markdown. "
   ]
  },
  {
   "cell_type": "markdown",
   "metadata": {},
   "source": [
    "## OLS"
   ]
  },
  {
   "cell_type": "code",
   "execution_count": 16,
   "metadata": {},
   "outputs": [
    {
     "data": {
      "text/plain": [
       "11.303736242894026"
      ]
     },
     "execution_count": 16,
     "metadata": {},
     "output_type": "execute_result"
    }
   ],
   "source": [
    "lin1 = linear_model.LinearRegression(fit_intercept=False)\n",
    "loo_risk(X,y,lin1)"
   ]
  },
  {
   "cell_type": "markdown",
   "metadata": {},
   "source": [
    "## Ridge Regression"
   ]
  },
  {
   "cell_type": "code",
   "execution_count": 17,
   "metadata": {
    "scrolled": true
   },
   "outputs": [
    {
     "data": {
      "image/png": "[encoded data removed]",
      "text/plain": [
       "<matplotlib.figure.Figure at 0x24e766041d0>"
      ]
     },
     "metadata": {},
     "output_type": "display_data"
    }
   ],
   "source": [
    "alphas = np.linspace(0.001,30,100)\n",
    "rcv = RidgeCV(alphas = alphas, store_cv_values=True,normalize=True)\n",
    "rcv.fit(X,y)\n",
    "cv_vals = rcv.cv_values_\n",
    "LOOr = cv_vals.mean(axis=0)\n",
    "\n",
    "plt.plot(alphas,LOOr)\n",
    "plt.xlabel('lambda')\n",
    "plt.ylabel('Risk')\n",
    "plt.title('LOO Risk for Ridge');\n",
    "plt.show()"
   ]
  },
  {
   "cell_type": "code",
   "execution_count": 18,
   "metadata": {},
   "outputs": [
    {
     "data": {
      "text/plain": [
       "array([ 11.29827261,  13.03923239,  14.18743817,  15.26679173,\n",
       "        16.32012344,  17.35395526,  18.36790877,  19.35988211,\n",
       "        20.32762998,  21.26929818,  22.18356491,  23.06962676,\n",
       "        23.92712846,  24.75607895,  25.55677143,  26.32971386,\n",
       "        27.07557136,  27.79511981,  28.4892092 ,  29.15873503,\n",
       "        29.80461639,  30.42777925,  31.02914394,  31.60961593,\n",
       "        32.17007918,  32.7113914 ,  33.23438095,  33.73984482,\n",
       "        34.22854759,  34.70122102,  35.15856415,  35.6012438 ,\n",
       "        36.02989533,  36.4451236 ,  36.84750403,  37.2375838 ,\n",
       "        37.61588302,  37.98289599,  38.33909243,  38.68491868,\n",
       "        39.02079891,  39.34713621,  39.66431376,  39.97269587,\n",
       "        40.27262897,  40.56444262,  40.84845037,  41.12495068,\n",
       "        41.39422774,  41.6565522 ,  41.91218198,  42.1613629 ,\n",
       "        42.40432937,  42.64130498,  42.87250313,  43.09812751,\n",
       "        43.31837267,  43.5334245 ,  43.74346064,  43.94865097,\n",
       "        44.14915799,  44.34513718,  44.5367374 ,  44.7241012 ,\n",
       "        44.90736517,  45.08666018,  45.26211174,  45.43384022,\n",
       "        45.6019611 ,  45.76658524,  45.92781909,  46.08576487,\n",
       "        46.24052083,  46.39218139,  46.54083735,  46.68657604,\n",
       "        46.8294815 ,  46.9696346 ,  47.10711322,  47.24199236,\n",
       "        47.37434428,  47.50423863,  47.63174254,  47.75692075,\n",
       "        47.87983573,  48.00054773,  48.11911491,  48.23559344,\n",
       "        48.35003755,  48.46249963,  48.5730303 ,  48.68167851,\n",
       "        48.78849156,  48.89351521,  48.9967937 ,  49.09836986,\n",
       "        49.19828514,  49.29657966,  49.39329227,  49.4884606 ])"
      ]
     },
     "execution_count": 18,
     "metadata": {},
     "output_type": "execute_result"
    }
   ],
   "source": [
    "LOOr "
   ]
  },
  {
   "cell_type": "code",
   "execution_count": 19,
   "metadata": {},
   "outputs": [
    {
     "name": "stdout",
     "output_type": "stream",
     "text": [
      "The minimum LOO Risk for Ridge method is 11.2982726081 when lambda = 0.001 \n"
     ]
    }
   ],
   "source": [
    "LOOs = list(LOOr)\n",
    "print(\"The minimum LOO Risk for Ridge method is %s when lambda = %s \"% (min(LOOs),alphas[LOOs.index(min(LOOs))]))"
   ]
  },
  {
   "cell_type": "markdown",
   "metadata": {},
   "source": [
    "the mimimum point is about $\\lambda=0$ which means multicollinearity is not present.The OLS is good enough, we did not need to use the Ridge Regression."
   ]
  },
  {
   "cell_type": "markdown",
   "metadata": {},
   "source": [
    "## kNN"
   ]
  },
  {
   "cell_type": "code",
   "execution_count": 20,
   "metadata": {},
   "outputs": [
    {
     "data": {
      "image/png": "[encoded data removed]",
      "text/plain": [
       "<matplotlib.figure.Figure at 0x24e76844198>"
      ]
     },
     "metadata": {},
     "output_type": "display_data"
    }
   ],
   "source": [
    "LOOs = []\n",
    "K=30\n",
    "Ks = range(1,K+1)\n",
    "for k in Ks:\n",
    "    knn = neighbors.KNeighborsRegressor(n_neighbors=k)\n",
    "    LOOs.append(loo_risk(X,y,knn))\n",
    "\n",
    "plt.plot(Ks,LOOs,'r',label=\"LOO risk\")\n",
    "plt.title(\"'LOO Risk for kNN Regression\")\n",
    "_ = plt.xlabel('k')\n",
    "plt.show()"
   ]
  },
  {
   "cell_type": "code",
   "execution_count": 21,
   "metadata": {},
   "outputs": [
    {
     "name": "stdout",
     "output_type": "stream",
     "text": [
      "The minimum LOO Risk for KNN method is 8.35201909548 when k = 5 \n"
     ]
    }
   ],
   "source": [
    "print(\"The minimum LOO Risk for KNN method is %s when k = %s \"% (min(LOOs),LOOs.index(min(LOOs))+1))"
   ]
  },
  {
   "cell_type": "markdown",
   "metadata": {},
   "source": [
    "From the graph and output above, when k = 5, the LOO Risk is the smallest. We will choose k=5 for the KNN method and the LOO Risk is 8.35."
   ]
  },
  {
   "cell_type": "markdown",
   "metadata": {},
   "source": [
    "## SVRegression"
   ]
  },
  {
   "cell_type": "code",
   "execution_count": 22,
   "metadata": {},
   "outputs": [
    {
     "data": {
      "image/png": "[encoded data removed]",
      "text/plain": [
       "<matplotlib.figure.Figure at 0x24e768054a8>"
      ]
     },
     "metadata": {},
     "output_type": "display_data"
    }
   ],
   "source": [
    "LOOs = []\n",
    "K=X.shape[1]\n",
    "Ks = range(1,K+1)\n",
    "for k in Ks:\n",
    "    knn = SingularValueRegressor(k)\n",
    "    LOOs.append(loo_risk(X,y,knn))\n",
    "\n",
    "plt.plot(Ks,LOOs,'r',label=\"LOO risk\")\n",
    "plt.title(\"'LOO Risk for SVRegression\")\n",
    "_ = plt.xlabel('k')\n",
    "plt.show()"
   ]
  },
  {
   "cell_type": "code",
   "execution_count": 23,
   "metadata": {},
   "outputs": [
    {
     "name": "stdout",
     "output_type": "stream",
     "text": [
      "The minimum LOO Risk for SVRegression  is 11.3037362429 when k = 9 \n"
     ]
    }
   ],
   "source": [
    "print(\"The minimum LOO Risk for SVRegression  is %s when k = %s \"% (min(LOOs),LOOs.index(min(LOOs))+1))"
   ]
  },
  {
   "cell_type": "markdown",
   "metadata": {},
   "source": [
    "As we can see above, when k =7 the LOO Risk is almost as the lowest. The best situation is taking k=9."
   ]
  },
  {
   "cell_type": "markdown",
   "metadata": {},
   "source": [
    "## Conclusion\n",
    "\n",
    "To sum up, kNN is the best with the lowest LOO risk which is about 8.35. The risk of OLS is the same as SVR when taking k=9 which is because SVR and the OLS is about the same (except the computing error) when k=9 in this case ."
   ]
  }
 ],
 "metadata": {
  "kernelspec": {
   "display_name": "Python 3",
   "language": "python",
   "name": "python3"
  },
  "language_info": {
   "codemirror_mode": {
    "name": "ipython",
    "version": 3
   },
   "file_extension": ".py",
   "mimetype": "text/x-python",
   "name": "python",
   "nbconvert_exporter": "python",
   "pygments_lexer": "ipython3",
   "version": "3.6.3"
  }
 },
 "nbformat": 4,
 "nbformat_minor": 2
}
