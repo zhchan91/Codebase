{
 "cells": [
  {
   "cell_type": "markdown",
   "metadata": {},
   "source": [
    "Chen Zihao 915490404"
   ]
  },
  {
   "cell_type": "markdown",
   "metadata": {},
   "source": [
    "# STA 208: Homework 2 (Do not distribute)\n",
    "\n",
    "## Due 5/2/2018 in class and online by 10am\n",
    "\n",
    "__Instructions:__ To make grading easier for the TAs please print out your homework and also submit it on canvas.  The canvas should include all of your code either in this notebook file, or a separate python file that is imported and ran in this notebook.  We should be able to open this notebook and run everything here by running the cells in sequence.  The written portions can be either done in markdown and TeX in new cells or written clearly by hand when you hand it in.\n",
    "\n",
    "- Code should be well organized and documented\n",
    "- All math should be clear and make sense sequentially\n",
    "- When in doubt explain what is going on\n",
    "- You will be graded on correctness of your math, code efficiency and succinctness, and conclusions and modelling decisions"
   ]
  },
  {
   "cell_type": "markdown",
   "metadata": {},
   "source": [
    "__Exercise 1__ (30 pts)\n",
    "\n",
    "Consider Poisson model with rate parameter $\\lambda$ which has PMF,\n",
    "$$\n",
    "p(y|\\lambda) = \\frac{\\lambda^y}{y!} e^{-\\lambda},\n",
    "$$\n",
    "where $y = 0,1,\\ldots$ is some count variable.\n",
    "In Poison regression, we model $\\lambda = e^{\\beta^\\top x}$ to obtain $p(y | x,\\beta)$.\n",
    "\n",
    "1. Let the loss function for Poisson regression be $\\ell_i(\\beta) \\propto - \\log p(y_i | x_i, \\beta)$ for a dataset consisting of predictor variables and count values $\\{x_i,y_i\\}_{i=1}^n$.  Here $\\propto$ means that we disregard any additive terms that are not dependent on $\\beta$.  Write an expression for $\\ell_i$ and derive its gradient. \n",
    "2. Show that the empirical risk $R_n(\\beta)$ is a convex function of $\\beta$.\n",
    "3. Consider the mapping $F_\\eta(\\beta) = \\beta - \\eta \\nabla R_n(\\beta)$ which is the iteration of gradient descent ($\\eta>0$ is called the learning parameter).  Show that at the minimizer of $R_n$, $\\hat \\beta$, we have that $F(\\hat \\beta) = \\hat \\beta$.\n",
    "4. I have a script to simulate from this model below.  Implement the gradient descent algorithm above and show that with enough data (n large enough) the estimated $\\hat \\beta$ approaches the true $\\beta$ (you can look at the sum of square error between these two vectors)."
   ]
  },
  {
   "cell_type": "markdown",
   "metadata": {},
   "source": [
    "### 1.1 Write an expression for $\\ell_i$ and derive its gradient. \n",
    "\n",
    "$$\n",
    "\\begin{split}\n",
    "\\ell_i(\\beta) \\propto - \\log p(y_i | x_i, \\beta) &=-\\log\\frac{\\lambda^{y_i}}{y_i!} e^{-\\lambda}\\\\\n",
    "&= -\\log \\frac{e^{\\beta^\\top x_iy_i}}{y_i!}e^{-e^{\\beta^\\top x_i}} \\\\\n",
    "&= -\\beta^\\top x_iy_i +\\log y_i!+e^{\\beta^\\top x_i}\n",
    "\\end{split}\n",
    "$$\n",
    "\n",
    "Hense, we get\n",
    "\n",
    "$$\n",
    "\\begin{split}\n",
    "\\triangledown\\ell_i(\\beta) &= - \\log p(y_i | x_i, \\beta)\\\\\n",
    "&=-y_ix_i +e^{\\beta^\\top x_i}x_i\n",
    "\\end{split}\n",
    "$$"
   ]
  },
  {
   "cell_type": "markdown",
   "metadata": {},
   "source": [
    "### 1.2  Show that the empirical risk $R_n(\\beta)$ is a convex function of $\\beta$.\n",
    "$$\n",
    "R_n(\\beta)=\\frac 1 n \\sum_{i=1}^n \\ell_i(\\beta)\n",
    "$$\n",
    "from 1.1 we can easily get the first derivative\n",
    "$$\n",
    "\\triangledown R_n(\\beta) = \\frac 1 n \\sum_{i=1}^n( -y_ix_i +e^{\\beta^\\top x_i}x_i)\n",
    "$$\n",
    "and we can also obtain the second derivative\n",
    "$$\n",
    "\\triangledown^2 R_n(\\beta) = \\frac 1 n \\sum_{i=1}^n( e^{\\beta^\\top x_i}x_ix_i^\\top )\\ge 0\n",
    "$$\n",
    "So that the $R_n(\\beta)$ is a convex function of $\\beta$."
   ]
  },
  {
   "cell_type": "markdown",
   "metadata": {},
   "source": [
    "### 1.3. Consider the mapping $F_\\eta(\\beta) = \\beta - \\eta \\nabla R_n(\\beta)$  which is the iteration of gradient descent ($\\eta>0$ is called the learning parameter).  Show that at the minimizer of $R_n$, $\\hat \\beta$, we have that $F(\\hat \\beta) = \\hat \\beta$.\n",
    "\n",
    "When $\\hat \\beta$ is the minimizer of $R_n$, we can get $\\nabla R_n(\\hat \\beta)=0$ so that \n",
    "$$F_\\eta(\\hat\\beta) = \\hat\\beta - \\eta \\nabla R_n(\\hat\\beta)=\\hat\\beta$$"
   ]
  },
  {
   "cell_type": "markdown",
   "metadata": {},
   "source": [
    "### 1.4. Implement the gradient descent algorithm above and show that with enough data (n large enough) the estimated $\\hat \\beta$ approaches the true $\\beta$ (you can look at the sum of square error between these two vectors)."
   ]
  },
  {
   "cell_type": "code",
   "execution_count": 1,
   "metadata": {
    "collapsed": true
   },
   "outputs": [],
   "source": [
    "import numpy as np\n",
    "import math"
   ]
  },
  {
   "cell_type": "code",
   "execution_count": 2,
   "metadata": {
    "collapsed": true
   },
   "outputs": [],
   "source": [
    "## Simulate from the Poisson regression model (use y,X)\n",
    "n, p = 1000,20\n",
    "X = np.random.normal(0,1,size = (n,p))\n",
    "beta = np.random.normal(0,.2,size = (p))\n",
    "lamb = np.exp(X @ beta)\n",
    "y = np.random.poisson(lamb)"
   ]
  },
  {
   "cell_type": "code",
   "execution_count": 3,
   "metadata": {},
   "outputs": [
    {
     "data": {
      "image/png": "[encoded data removed]",
      "text/plain": [
       "<matplotlib.figure.Figure at 0x255ff273320>"
      ]
     },
     "metadata": {},
     "output_type": "display_data"
    }
   ],
   "source": [
    "import matplotlib.pyplot as plt\n",
    "nlist = np.arange(300,2000,20)\n",
    "\n",
    "np.random.seed(208)\n",
    "\n",
    "def f1(w):\n",
    "    l = np.zeros(p)\n",
    "    for i in range(n):\n",
    "        l = l-y[i]*X[i,]+math.exp(X[i,]@w)*X[i,]\n",
    "    return l/n\n",
    "\n",
    "result = []\n",
    "for n in nlist:\n",
    "    p = 20\n",
    "    X = np.random.normal(0,1,size = (n,p))\n",
    "    beta = np.random.normal(0,.2,size = (p))\n",
    "    lamb = np.exp(X @ beta)\n",
    "    y = np.random.poisson(lamb)\n",
    "    \n",
    "    eta = 0.4\n",
    "    w = np.zeros(p)\n",
    "    g = f1(w)\n",
    "    r0 = np.linalg.norm(g)\n",
    "    \n",
    "    for i in range(100):\n",
    "        if np.linalg.norm(g)<0.01*r0:\n",
    "            break\n",
    "        g = f1(w)\n",
    "        w = w - eta*g\n",
    "    result.append(((beta - w)**2).sum()) \n",
    "    \n",
    "plt.plot(nlist,result)\n",
    "plt.title('sum of square error between these two vectors')\n",
    "plt.xlabel('number of data')\n",
    "plt.ylim(0,0.1)\n",
    "plt.show()"
   ]
  },
  {
   "cell_type": "markdown",
   "metadata": {},
   "source": [
    "According to the plot above, the curve shows that the sum of square error between these two vector tends to 0 when n, the sample size, increasing."
   ]
  },
  {
   "cell_type": "markdown",
   "metadata": {},
   "source": [
    "__Exercise 2__ (30 pts)\n",
    "\n",
    "Recall the subset selection problem with tuning parameter $k$,\n",
    "$$\n",
    "\\min_{\\beta : {\\rm supp}(\\beta) \\le k}\\| y - X_S \\beta_S \\|_2^2.\n",
    "$$\n",
    "\n",
    "1. Write the subset selection problem in the following form\n",
    "$$\n",
    "\\min_{S \\subseteq \\{1,\\ldots,p\\}, |S|\\le k} y^\\top P_S y,\n",
    "$$\n",
    "where $P_S$ is a projection.  Describe the subspace that is the range of this projection.\n",
    "2. Suppose that we have a nested sequence of models $S_1\\subset S_2 \\subset \\ldots \\subset S_p$ such that $|S_k| = k$ (it contains $k$ variables).  Prove that $$y^\\top P_{S_k} y \\ge y^\\top P_{S_{k+1}} y$$ for $k=1,\\ldots,p-1$.  What does this tell us about the solution to the subset selection problem and the constraint $|S| \\le k$?\n",
    "3. Suppose that $X$ is orthogonal, then write a computationally efficient pseudocode to solve the subset selection problem.  Prove that it is correct (your algorithm actually solves subset selection under othogonal design).\n",
    "4. Suppose that we have that $n = p$ and $y_i = \\beta_i + \\epsilon_i$ (identity design matrix) where $\\epsilon_i$ satisfies \n",
    "$$\n",
    "\\mathbb P \\left\\{ |\\epsilon_i| \\ge t \\right\\} \\le 2 e^{-t^2 / 2\\sigma^2}\n",
    "$$\n",
    "for any $t > 0$ (this is true for central Normal RVs) for some $\\sigma > 0$.\n",
    "Suppose that there is some true $S_0 \\subset\\{1,\\ldots,p\\}$ such that $|S_0| = k < p$ and ${\\rm supp}(\\beta) = S_0$.\n",
    "Prove the following.\n",
    "\n",
    "__Proposition__\n",
    "Define $\\mu = \\min_{j \\in S_0} |\\beta_j|$ and call $\\mu / \\sigma$ the signal-to-noise ratio.  Then if \n",
    "$$\n",
    "\\frac{\\mu}{\\sigma} > 2 \\sqrt{2 \\log \\left( \\frac{2n}{\\delta}\\right)},\n",
    "$$\n",
    "then the true $S$ is selected by subset selection with probability at least $1 - \\delta$.\n",
    "\n",
    "Hint: rewrite the subset selection problem with $X = I$ and compare the objective at $S_0$ to any other $S$."
   ]
  },
  {
   "cell_type": "markdown",
   "metadata": {},
   "source": [
    "### 2.1\n",
    "\n",
    "$$\n",
    "\\begin{split}\n",
    "\\min_{\\beta : {\\rm supp}(\\beta) \\le k}\\| y - X_S \\beta_S \\|_2^2 &=\\min_{\\beta : {\\rm supp}(\\beta) \\le k} (y - X_S \\beta_S)^\\top(y - X_S \\beta_S) \\\\ \n",
    "&=\\min_{\\beta : {\\rm supp}(\\beta) \\le k} (y^\\top y -\\beta_S^\\top X_S^\\top y - y^\\top X_S \\beta_S +\\beta_S^\\top X_S^\\top X_S \\beta_S ) \\\\ \n",
    "&=\\min_{\\beta : {\\rm supp}(\\beta) \\le k} (y^\\top y -2\\beta_S^\\top X_S^\\top y  +\\beta_S^\\top X_S^\\top X_S \\beta_S ) \\\\ \n",
    "\\end{split}\n",
    "$$\n",
    "\n",
    "for each S we can get\n",
    "\n",
    "$$\n",
    "\\hat\\beta_S=(X_S^\\top X_S)^{-1}X_S^\\top y\n",
    "$$\n",
    "\n",
    "and we can get \n",
    "\n",
    "$$\n",
    "X_S\\hat\\beta_S =  X_S(X_S^\\top X_S)^{-1}X_S^\\top y = H_Sy\n",
    "$$\n",
    "\n",
    "where $H_S = X_S(X_S^\\top X_S)^{-1}X_S^\\top$ and $H_S$ is a projection matrix.\n",
    "\n",
    "plug in and we can get the subset selection problem\n",
    "\n",
    "\n",
    "$$\n",
    "\\begin{split}\n",
    "\\min_{S \\subseteq \\{1,\\ldots,p\\}, |S|\\le k}\\min_{\\beta}\\| y - X_S \\beta_S \\|_2^2 &=\\min_{S \\subseteq \\{1,\\ldots,p\\}, |S|\\le k}\\min_{\\beta} (y^\\top y -2\\beta_S^\\top X_S^\\top y  +\\beta_S^\\top X_S^\\top X_S \\beta_S ) \\\\ \n",
    "&=\\min_{S \\subseteq \\{1,\\ldots,p\\}, |S|\\le k}(y^\\top y -2y^\\top H_S^\\top y  +y^\\top H_S^\\top H_S y )\\\\\n",
    "&=\\min_{S \\subseteq \\{1,\\ldots,p\\}, |S|\\le k}(y^\\top y -2y^\\top H_S y  +y^\\top H_S y )\\\\\n",
    "&=\\min_{S \\subseteq \\{1,\\ldots,p\\}, |S|\\le k}(y^\\top y -y^\\top H_S y)\\\\\n",
    "&=\\min_{S \\subseteq \\{1,\\ldots,p\\}, |S|\\le k} y^\\top(I- H_S)y\\\\\n",
    "&=\\min_{S \\subseteq \\{1,\\ldots,p\\}, |S|\\le k} y^\\top P_S y\n",
    "\\end{split}\n",
    "$$\n",
    "\n",
    "where $P_S = I- H_S$\n",
    "\n",
    "$P_S$ is a projection martix because \n",
    "\n",
    "(1) $P_S^\\top = (I- H_S)^\\top =I^\\top- H_S^\\top= I- H_S = P_S$\n",
    "\n",
    "(2) $P_S^\\top P_S = (I^\\top- H_S^\\top)(I- H_S)= (I^\\top I- I^\\top H_S-H_S^\\top I+H_S^\\top H_S) = I-H_S-H_S+H_S=I-H_S=P_S$\n",
    "\n",
    "The subspace is the orthogonal space of the collumn space of the X matrix."
   ]
  },
  {
   "cell_type": "markdown",
   "metadata": {},
   "source": [
    "### 2.2\n",
    "\n",
    "$$\n",
    "\\begin{split}\n",
    "y^\\top P_{S_k} y &\\ge y^\\top P_{S_{k+1}} y\\\\\n",
    "\\min_{\\beta_{k}}\\| y - X_{S_k} \\beta_{k} \\|_2^2 &\\ge \\min_{\\beta_{k+1}}\\| y - X_{S_{k+1}} \\beta_{k+1} \\|_2^2\n",
    "\\end{split}\n",
    "$$\n",
    "\n",
    "let $\\hat \\beta_{k}$ and $\\hat \\beta_{k+1}$ is the solution then we can get \n",
    "\n",
    "$$\n",
    "\\| y - X_{S_k} \\hat\\beta_{k} \\|_2^2 \\ge \\| y - X_{S_{k+1}} \\hat \\beta_{k+1} \\|_2^2\n",
    "$$\n",
    "\n",
    "we need to prove the inequality above.\n",
    "\n",
    "because $\\hat \\beta_{k+1}$ is the minimizer then we have\n",
    "\n",
    "$$\n",
    "\\| y - X_{S_{k+1}} \\hat \\beta_{k+1} \\|_2^2\\le \\| y - X_{S_{k+1}} \\beta_{k+1} \\|_2^2\n",
    "$$\n",
    "\n",
    "Without the lack of generality, assume that $X_{S_{k+1}}= [X_{S_{k}},x_{k+1}]$\n",
    "\n",
    "let $\\beta_{k+1}^{*\\top} = [\\beta_{k}^\\top, 0]$ then we got \n",
    "\n",
    "$$\n",
    "\\| y - X_{S_{k+1}} \\hat \\beta_{k+1} \\|_2^2\\le \\| y - X_{S_{k+1}} \\beta_{k+1}^* \\|_2^2=\\| y - X_{S_{k}} \\hat \\beta_{k} \\|_2^2\n",
    "$$\n",
    "\n",
    "If the solution is unique, the conclusion above implies that the solution to the subset selection problem will have the property $|S|=k$. \n",
    "\n",
    "If the solutions are not unique, which implies multicollinearity, at least one of the subset selection solutions will still have the property $|S|=k$"
   ]
  },
  {
   "cell_type": "markdown",
   "metadata": {},
   "source": [
    "### 2.3\n",
    "\n",
    "step 1. solve $\\min_{\\beta_i}||y - X_i\\beta_i||_2^2$ and store $\\beta_i's$ and the function values.\n",
    "\n",
    "step 2. sort the function value and take the lowest k $\\beta_i's$ corresponding to the k lowest function values.\n",
    "\n",
    "step 3. these k lowest $\\beta_i's$ is what we want\n",
    "\n",
    "pseudocode\n",
    "\n",
    "- for iter = 1, 2, ..., p\n",
    "> - $\\beta_i = (x_i^Tx_i)^{-1}x_iy$\n",
    "> - $f_i = ||y-x_i\\beta_i||_2^2$\n",
    "- sort $f_i$ increasingly\n",
    "- $S\\leftarrow$ the index of the first k in the sorted $f_i$\n",
    "- $\\beta[i]=\\beta_i$ if $i\\in S$ and $\\beta[j]=0$ if $j\\not\\in S$\n",
    "\n",
    "proof:\n",
    "\n",
    "- $X$ is orthogonal, $(1)\\space SSR_{x_k+1}|SSR_{{S_k}}=SSR_{x_k+1}$\n",
    "\n",
    "- For regression model we have $SSTO=SSE+SSR$, plug (1) in and we can get $SSTO = SSE +\\sum_{i=1}^kSSR_{x_i}$\n",
    "\n",
    "- $||y - X_i\\beta_i||_2^2=SSE=SSTO-SSR=SSTO-\\sum_{i=1}^kSSR_{x_i}$\n",
    "\n",
    "- In the algorithm, I take the lowest $SSE_{x_i}$ which is the $SSE$ for the single variable regression which implies that i take k $X_i$ with the k largest $SSR_{x_i}$ so that the $SSE$ of the final model is minimized\n",
    "\n"
   ]
  },
  {
   "cell_type": "markdown",
   "metadata": {},
   "source": [
    "### 2.4\n",
    "$$\n",
    "\\begin{split}\n",
    "\\max_{j\\not\\in S}|\\epsilon_j|&>\\min_{j\\in S}|\\beta_j+\\epsilon_j|\\\\&\\ge\\min_{j\\in S}(|\\beta_j|-|\\epsilon_j|)\\\\&\\ge\\min_{j\\in S}|\\beta_j|-\\max_{j\\in S}|\\epsilon_j|\\\\\n",
    "\\max_{j\\not\\in S}|\\epsilon_j|+\\max_{j\\in S}|\\epsilon_j|&>\\min_{j\\in S}|\\beta_j|\n",
    "\\end{split}\n",
    "$$\n",
    "let A = {S is not selected by subset selection}\n",
    "$$\n",
    "\\begin{split}\n",
    "P(A) &= P(\\max_{j\\not\\in S}|\\epsilon_j|>\\min_{j\\in S}|\\beta_j+\\epsilon_j|)\\\\\n",
    "&\\le P(\\max_{j\\not\\in S}|\\epsilon_j|+\\max_{j\\in S}|\\epsilon_j|>\\min_{j\\in S}|\\beta_j|)\\\\\n",
    "&\\le P(2\\max_j|\\epsilon_j|>\\min_{j\\in S}|\\beta_j|)\\\\\n",
    "&\\le P(\\max_j|\\epsilon_j|>\\frac \\mu 2)\n",
    "\\end{split}\n",
    "$$\n",
    "\n",
    "if $\\frac{\\mu}{\\sigma} > 2 \\sqrt{2 \\log \\left( \\frac{2n}{\\delta}\\right)}$,then \n",
    "\n",
    "$$\n",
    "P(\\max_j|\\epsilon_j|>\\frac \\mu 2) \\le P(\\max_j|\\epsilon_j|>\\sigma\\sqrt{2 \\log \\left( \\frac{2n}{\\delta}\\right)})\\le nP(|\\epsilon_j|>\\sigma\\sqrt{2 \\log \\left( \\frac{2n}{\\delta}\\right)})\n",
    "$$\n",
    "plug $t = \\sigma\\sqrt{2 \\log \\left( \\frac{2n}{\\delta}\\right)}$ into $\\mathbb P \\left\\{ |\\epsilon_i| \\ge t \\right\\} \\le 2 e^{-t^2 / 2\\sigma^2}$,then we can get \n",
    "$$\n",
    "P(|\\epsilon_j|>\\sigma\\sqrt{2 \\log \\left( \\frac{2n}{\\delta}\\right)})\\le n \\times \\frac \\delta n = \\delta\n",
    "$$\n",
    "\n",
    "which means \n",
    "\n",
    "$$\n",
    "\\begin{split}\n",
    "P(A)&\\le\\delta\\\\\n",
    "1-P(A)&\\ge 1-\\delta\n",
    "\\end{split}\n",
    "$$\n",
    "\n",
    "the true $S$ is selected by subset selection with probability at least $1 - \\delta$."
   ]
  },
  {
   "cell_type": "markdown",
   "metadata": {},
   "source": [
    "__Exercise 3__ (40 pts)\n",
    "For this exercise, it may be helpful to use the `sklearn.linear_model` module.  I have also included a plotting tool for making the lasso path in ESL.\n",
    "\n",
    "1. Load the training and test data using the script below.  Fit OLS on the full dataset and compute the test error.  Throughout you do not need to compute an intercept but you should normalize the X (divide by the column norms).\n",
    "2. Train and tune ridge regression and compute the test error (square error loss).\n",
    "3. Fit the lasso path to the data and compute the test error for each returned lasso coefficient.\n",
    "4. Compare and contrast the lars path to the lasso path, what is the key difference.  Tell me when the active sets differ and how, if they do at all.\n",
    "4. Extract each active set from the lasso path and recompute the restricted OLS for each.  Compute and compare the test error for each model.\n",
    "5. If your boss said that they wanted a more parsimonious model (a smaller model) then which model would you choose, justify your answer.  Under which circumstance would you choose the model with the smallest test error."
   ]
  },
  {
   "cell_type": "markdown",
   "metadata": {},
   "source": [
    "### 3.1 Load the training and test data using the script below. Fit OLS on the full dataset and compute the test error. Throughout you do not need to compute an intercept but you should normalize the X (divide by the column norms)."
   ]
  },
  {
   "cell_type": "code",
   "execution_count": 4,
   "metadata": {
    "collapsed": true
   },
   "outputs": [],
   "source": [
    "import pickle\n",
    "with open('hw2.data','rb') as f:\n",
    "    y_tr,X_tr,y_te,X_te = pickle.load(f)"
   ]
  },
  {
   "cell_type": "code",
   "execution_count": 5,
   "metadata": {
    "collapsed": true
   },
   "outputs": [],
   "source": [
    "import pandas as pd\n",
    "from sklearn.preprocessing import normalize\n",
    "from sklearn import linear_model\n",
    "X_trn = normalize(X_tr,axis = 0)\n",
    "X_ten = normalize(X_te,axis = 0)"
   ]
  },
  {
   "cell_type": "code",
   "execution_count": 6,
   "metadata": {},
   "outputs": [
    {
     "data": {
      "text/plain": [
       "1.0411444900270803"
      ]
     },
     "execution_count": 6,
     "metadata": {},
     "output_type": "execute_result"
    }
   ],
   "source": [
    "lm = linear_model.LinearRegression(fit_intercept=False)\n",
    "lm.fit(X_trn,y_tr)\n",
    "y_hat = lm.predict(X_ten)\n",
    "np.mean((y_hat - y_te)**2)"
   ]
  },
  {
   "cell_type": "markdown",
   "metadata": {},
   "source": [
    "### 3.2. Train and tune ridge regression and compute the test error (square error loss)."
   ]
  },
  {
   "cell_type": "code",
   "execution_count": 7,
   "metadata": {},
   "outputs": [
    {
     "data": {
      "text/plain": [
       "0.0026146732118010976"
      ]
     },
     "execution_count": 7,
     "metadata": {},
     "output_type": "execute_result"
    }
   ],
   "source": [
    "alphas = 10**np.linspace(10,-5,1000)\n",
    "ridge = linear_model.Ridge()\n",
    "loss = []\n",
    "for a in alphas:\n",
    "    ridge.set_params(alpha=a)\n",
    "    ridge.fit(X_trn,y_tr)\n",
    "    loss.append(np.mean((ridge.predict(X_ten) - y_te)**2))\n",
    "alphas[loss.index(min(loss))]"
   ]
  },
  {
   "cell_type": "code",
   "execution_count": 8,
   "metadata": {},
   "outputs": [
    {
     "data": {
      "text/plain": [
       "1.0385123094346131"
      ]
     },
     "execution_count": 8,
     "metadata": {},
     "output_type": "execute_result"
    }
   ],
   "source": [
    "min(loss)"
   ]
  },
  {
   "cell_type": "markdown",
   "metadata": {},
   "source": [
    "For the ridge regression above, we can see that with $\\alpha=0.00261$, the square error loss has the lowest value 1.039"
   ]
  },
  {
   "cell_type": "markdown",
   "metadata": {},
   "source": [
    "### 3.3. Fit the lasso path to the data and compute the test error for each returned lasso coefficient."
   ]
  },
  {
   "cell_type": "code",
   "execution_count": 9,
   "metadata": {
    "collapsed": true
   },
   "outputs": [],
   "source": [
    "def plot_lars(coefs, lines=False, title=\"Lars Path\"):\n",
    "    \"\"\"\n",
    "    Plot the lasso path where coefs is a matrix - the columns are beta vectors\n",
    "    \"\"\"\n",
    "    xx = np.sum(np.abs(coefs.T), axis=1)\n",
    "    xx /= xx[-1]\n",
    "    plt.plot(xx, coefs.T)\n",
    "    ymin, ymax = plt.ylim()\n",
    "    if lines:\n",
    "        plt.vlines(xx, ymin, ymax, linestyle='dashed')\n",
    "    plt.xlabel('|coef| / max|coef|')\n",
    "    plt.ylabel('Coefficients')\n",
    "    plt.title(title)\n",
    "    plt.axis('tight')"
   ]
  },
  {
   "cell_type": "code",
   "execution_count": 10,
   "metadata": {},
   "outputs": [
    {
     "data": {
      "image/png": "[encoded data removed]",
      "text/plain": [
       "<matplotlib.figure.Figure at 0x2558416aa90>"
      ]
     },
     "metadata": {},
     "output_type": "display_data"
    }
   ],
   "source": [
    "lasso = linear_model.lars_path(X_trn,y_tr,method=\"lasso\")\n",
    "plot_lars(lasso[2],title=\"Lasso Path\")\n",
    "plt.show()"
   ]
  },
  {
   "cell_type": "code",
   "execution_count": 11,
   "metadata": {},
   "outputs": [
    {
     "data": {
      "text/plain": [
       "0.99739513588665663"
      ]
     },
     "execution_count": 11,
     "metadata": {},
     "output_type": "execute_result"
    }
   ],
   "source": [
    "n = lasso[2].shape[1]\n",
    "error = []\n",
    "for i in range(n):\n",
    "    y_hat = X_ten@lasso[2][:,i]\n",
    "    error.append(np.mean((y_hat - y_te)**2))\n",
    "#error\n",
    "min(error)"
   ]
  },
  {
   "cell_type": "markdown",
   "metadata": {},
   "source": [
    "the question ask \"compute the test error for each returned lasso coefficient.\" It is a long list , I just report the minimum values here."
   ]
  },
  {
   "cell_type": "markdown",
   "metadata": {},
   "source": [
    "### 3.4. Compare and contrast the lars path to the lasso path, what is the key difference.  Tell me when the active sets differ and how, if they do at all."
   ]
  },
  {
   "cell_type": "code",
   "execution_count": 12,
   "metadata": {},
   "outputs": [
    {
     "data": {
      "image/png": "[encoded data removed]",
      "text/plain": [
       "<matplotlib.figure.Figure at 0x25586361898>"
      ]
     },
     "metadata": {},
     "output_type": "display_data"
    }
   ],
   "source": [
    "lars = linear_model.lars_path(X_trn,y_tr)\n",
    "plot_lars(lasso[2])\n",
    "plt.show()"
   ]
  },
  {
   "cell_type": "markdown",
   "metadata": {},
   "source": [
    "The two paths look the same. It is because of the lasso modification, we can not figured out which variable hits zero from the grpah. (no leaving event in this question)"
   ]
  },
  {
   "cell_type": "markdown",
   "metadata": {},
   "source": [
    "### 3.5. Extract each active set from the lasso path and recompute the restricted OLS for each.  Compute and compare the test error for each model."
   ]
  },
  {
   "cell_type": "code",
   "execution_count": 13,
   "metadata": {},
   "outputs": [
    {
     "data": {
      "text/plain": [
       "(1000, 1, 60)"
      ]
     },
     "execution_count": 13,
     "metadata": {},
     "output_type": "execute_result"
    }
   ],
   "source": [
    "X_trn[:,np.where(lasso[2][:,60] != 0)].shape"
   ]
  },
  {
   "cell_type": "code",
   "execution_count": 14,
   "metadata": {},
   "outputs": [
    {
     "data": {
      "text/plain": [
       "0.98483883504521597"
      ]
     },
     "execution_count": 14,
     "metadata": {},
     "output_type": "execute_result"
    }
   ],
   "source": [
    "LO_error = []\n",
    "for i in range(1,X_trn.shape[1]):\n",
    "    X_trin = X_trn[:,np.where(lasso[2][:,i] != 0)]\n",
    "    X_tein = X_ten[:,np.where(lasso[2][:,i] != 0)]\n",
    "    X_trin = X_trin.reshape(X_trn.shape[0],X_trin.shape[2])\n",
    "    X_tein = X_tein.reshape(X_ten.shape[0],X_tein.shape[2])\n",
    "    \n",
    "    lm = linear_model.LinearRegression(fit_intercept=False)\n",
    "    lm.fit(X_trin,y_tr)\n",
    "    y_hat = lm.predict(X_tein)\n",
    "    LO_error.append(np.mean((y_hat - y_te)**2))\n",
    "#LO_error\n",
    "min(LO_error)"
   ]
  },
  {
   "cell_type": "markdown",
   "metadata": {},
   "source": [
    "Same situation here. the list is too long so that i just report the minimum values."
   ]
  },
  {
   "cell_type": "markdown",
   "metadata": {},
   "source": [
    "### 3.6 If your boss said that they wanted a more parsimonious model (a smaller model) then which model would you choose, justify your answer.  Under which circumstance would you choose the model with the smallest test error."
   ]
  },
  {
   "cell_type": "markdown",
   "metadata": {},
   "source": [
    "In this situation, I need to put a penalty to the number of the parameters. I will use AIC here."
   ]
  },
  {
   "cell_type": "code",
   "execution_count": 15,
   "metadata": {},
   "outputs": [
    {
     "data": {
      "text/plain": [
       "2.302585092994046"
      ]
     },
     "execution_count": 15,
     "metadata": {},
     "output_type": "execute_result"
    }
   ],
   "source": [
    "math.log(10)"
   ]
  },
  {
   "cell_type": "code",
   "execution_count": 16,
   "metadata": {},
   "outputs": [
    {
     "data": {
      "text/plain": [
       "25.245694025370554"
      ]
     },
     "execution_count": 16,
     "metadata": {},
     "output_type": "execute_result"
    }
   ],
   "source": [
    "LO_AIC = []\n",
    "for i in range(1,X_trn.shape[1]):\n",
    "    X_trin = X_trn[:,np.where(lasso[2][:,i] != 0)]\n",
    "    X_tein = X_ten[:,np.where(lasso[2][:,i] != 0)]\n",
    "    X_trin = X_trin.reshape(X_trn.shape[0],X_trin.shape[2])\n",
    "    X_tein = X_tein.reshape(X_ten.shape[0],X_tein.shape[2])\n",
    "    \n",
    "    lm = linear_model.LinearRegression(fit_intercept=False)\n",
    "    lm.fit(X_trin,y_tr)\n",
    "    y_hat = lm.predict(X_tein)\n",
    "    LO_AIC.append(2*i+X_trn.shape[0]*math.log(np.mean((y_hat - y_te)**2)))\n",
    "#LO_error\n",
    "min(LO_AIC)"
   ]
  },
  {
   "cell_type": "code",
   "execution_count": 17,
   "metadata": {},
   "outputs": [
    {
     "data": {
      "text/plain": [
       "[0, 1, 2, 3, 5, 8, 27, 38, 50, 52, 53, 69, 76, 77, 78, 80, 91, 96, 97]"
      ]
     },
     "execution_count": 17,
     "metadata": {},
     "output_type": "execute_result"
    }
   ],
   "source": [
    "i = LO_AIC.index(min(LO_AIC))\n",
    "list(np.where(lasso[2][:,i] != 0)[0])"
   ]
  },
  {
   "cell_type": "markdown",
   "metadata": {},
   "source": [
    "The list above is the variables which i will put it in the linear model which has the minimum AIC and I think this model will meet my boss's requirment.\n",
    "\n",
    "Under the circumstances that the number of sample is much larger than the number of variables $(n>>p)$, I will choose the model with the smallest test error."
   ]
  }
 ],
 "metadata": {
  "kernelspec": {
   "display_name": "Python 3",
   "language": "python",
   "name": "python3"
  },
  "language_info": {
   "codemirror_mode": {
    "name": "ipython",
    "version": 3
   },
   "file_extension": ".py",
   "mimetype": "text/x-python",
   "name": "python",
   "nbconvert_exporter": "python",
   "pygments_lexer": "ipython3",
   "version": "3.6.3"
  }
 },
 "nbformat": 4,
 "nbformat_minor": 2
}
